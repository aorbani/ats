{
  "nbformat": 4,
  "nbformat_minor": 0,
  "metadata": {
    "accelerator": "GPU",
    "colab": {
      "name": "Copy of Fine-Tune XLS-R on Common Voice.ipynb",
      "provenance": [],
      "toc_visible": true,
      "machine_shape": "hm",
      "include_colab_link": true
    },
    "kernelspec": {
      "display_name": "Python 3",
      "name": "python3"
    },
    "widgets": {
      "application/vnd.jupyter.widget-state+json": {
        "6b166de8d8964b228a62a4bb6c3cc640": {
          "model_module": "@jupyter-widgets/controls",
          "model_name": "VBoxModel",
          "model_module_version": "1.5.0",
          "state": {
            "_dom_classes": [],
            "_model_module": "@jupyter-widgets/controls",
            "_model_module_version": "1.5.0",
            "_model_name": "VBoxModel",
            "_view_count": null,
            "_view_module": "@jupyter-widgets/controls",
            "_view_module_version": "1.5.0",
            "_view_name": "VBoxView",
            "box_style": "",
            "children": [
              "IPY_MODEL_bb3ee57c9df04c8689392763857e9398",
              "IPY_MODEL_f1dc9422e16e48e4a6a66ff8c44de79c",
              "IPY_MODEL_da0fa2523f8b4581b4c7bd8cc1631d3b",
              "IPY_MODEL_6fb1e0aa41f14c269e1786145968aa78",
              "IPY_MODEL_fea140986a0649b494bf74f916dd9efb"
            ],
            "layout": "IPY_MODEL_91c68412e48c4e25a633e43fd6a1d0a0"
          }
        },
        "bb3ee57c9df04c8689392763857e9398": {
          "model_module": "@jupyter-widgets/controls",
          "model_name": "HTMLModel",
          "model_module_version": "1.5.0",
          "state": {
            "_dom_classes": [],
            "_model_module": "@jupyter-widgets/controls",
            "_model_module_version": "1.5.0",
            "_model_name": "HTMLModel",
            "_view_count": null,
            "_view_module": "@jupyter-widgets/controls",
            "_view_module_version": "1.5.0",
            "_view_name": "HTMLView",
            "description": "",
            "description_tooltip": null,
            "layout": "IPY_MODEL_d9f2164de00645c38e59e79c6f17d75c",
            "placeholder": "​",
            "style": "IPY_MODEL_2a7e05b2b7c0499eabe805869fb1e8b1",
            "value": "<center> <img\nsrc=https://huggingface.co/front/assets/huggingface_logo-noborder.svg\nalt='Hugging Face'> <br> Copy a token from <a\nhref=\"https://huggingface.co/settings/tokens\" target=\"_blank\">your Hugging Face\ntokens page</a> and paste it below. <br> Immediately click login after copying\nyour token or it might be stored in plain text in this notebook file. </center>"
          }
        },
        "f1dc9422e16e48e4a6a66ff8c44de79c": {
          "model_module": "@jupyter-widgets/controls",
          "model_name": "PasswordModel",
          "model_module_version": "1.5.0",
          "state": {
            "_dom_classes": [],
            "_model_module": "@jupyter-widgets/controls",
            "_model_module_version": "1.5.0",
            "_model_name": "PasswordModel",
            "_view_count": null,
            "_view_module": "@jupyter-widgets/controls",
            "_view_module_version": "1.5.0",
            "_view_name": "PasswordView",
            "continuous_update": true,
            "description": "Token:",
            "description_tooltip": null,
            "disabled": false,
            "layout": "IPY_MODEL_b237afead7e045ac88727b994423bd51",
            "placeholder": "​",
            "style": "IPY_MODEL_e2d230d978cb4100a9825cc1b34bbb71",
            "value": ""
          }
        },
        "da0fa2523f8b4581b4c7bd8cc1631d3b": {
          "model_module": "@jupyter-widgets/controls",
          "model_name": "CheckboxModel",
          "model_module_version": "1.5.0",
          "state": {
            "_dom_classes": [],
            "_model_module": "@jupyter-widgets/controls",
            "_model_module_version": "1.5.0",
            "_model_name": "CheckboxModel",
            "_view_count": null,
            "_view_module": "@jupyter-widgets/controls",
            "_view_module_version": "1.5.0",
            "_view_name": "CheckboxView",
            "description": "Add token as git credential?",
            "description_tooltip": null,
            "disabled": false,
            "indent": true,
            "layout": "IPY_MODEL_c7d6f70f3feb48f2aace273ee07336fa",
            "style": "IPY_MODEL_e340f3733f704cffb49ed0ad54453bc4",
            "value": true
          }
        },
        "6fb1e0aa41f14c269e1786145968aa78": {
          "model_module": "@jupyter-widgets/controls",
          "model_name": "ButtonModel",
          "model_module_version": "1.5.0",
          "state": {
            "_dom_classes": [],
            "_model_module": "@jupyter-widgets/controls",
            "_model_module_version": "1.5.0",
            "_model_name": "ButtonModel",
            "_view_count": null,
            "_view_module": "@jupyter-widgets/controls",
            "_view_module_version": "1.5.0",
            "_view_name": "ButtonView",
            "button_style": "",
            "description": "Login",
            "disabled": false,
            "icon": "",
            "layout": "IPY_MODEL_424fce4e6b384ce5a61b557edc82077e",
            "style": "IPY_MODEL_8b86020193644bb2950fe4109c143e24",
            "tooltip": ""
          }
        },
        "fea140986a0649b494bf74f916dd9efb": {
          "model_module": "@jupyter-widgets/controls",
          "model_name": "HTMLModel",
          "model_module_version": "1.5.0",
          "state": {
            "_dom_classes": [],
            "_model_module": "@jupyter-widgets/controls",
            "_model_module_version": "1.5.0",
            "_model_name": "HTMLModel",
            "_view_count": null,
            "_view_module": "@jupyter-widgets/controls",
            "_view_module_version": "1.5.0",
            "_view_name": "HTMLView",
            "description": "",
            "description_tooltip": null,
            "layout": "IPY_MODEL_c022be60341c4335a1d280369ceb0a43",
            "placeholder": "​",
            "style": "IPY_MODEL_a0a317c60279491abb51773a5b35d884",
            "value": "\n<b>Pro Tip:</b> If you don't already have one, you can create a dedicated\n'notebooks' token with 'write' access, that you can then easily reuse for all\nnotebooks. </center>"
          }
        },
        "91c68412e48c4e25a633e43fd6a1d0a0": {
          "model_module": "@jupyter-widgets/base",
          "model_name": "LayoutModel",
          "model_module_version": "1.2.0",
          "state": {
            "_model_module": "@jupyter-widgets/base",
            "_model_module_version": "1.2.0",
            "_model_name": "LayoutModel",
            "_view_count": null,
            "_view_module": "@jupyter-widgets/base",
            "_view_module_version": "1.2.0",
            "_view_name": "LayoutView",
            "align_content": null,
            "align_items": "center",
            "align_self": null,
            "border": null,
            "bottom": null,
            "display": "flex",
            "flex": null,
            "flex_flow": "column",
            "grid_area": null,
            "grid_auto_columns": null,
            "grid_auto_flow": null,
            "grid_auto_rows": null,
            "grid_column": null,
            "grid_gap": null,
            "grid_row": null,
            "grid_template_areas": null,
            "grid_template_columns": null,
            "grid_template_rows": null,
            "height": null,
            "justify_content": null,
            "justify_items": null,
            "left": null,
            "margin": null,
            "max_height": null,
            "max_width": null,
            "min_height": null,
            "min_width": null,
            "object_fit": null,
            "object_position": null,
            "order": null,
            "overflow": null,
            "overflow_x": null,
            "overflow_y": null,
            "padding": null,
            "right": null,
            "top": null,
            "visibility": null,
            "width": "50%"
          }
        },
        "d9f2164de00645c38e59e79c6f17d75c": {
          "model_module": "@jupyter-widgets/base",
          "model_name": "LayoutModel",
          "model_module_version": "1.2.0",
          "state": {
            "_model_module": "@jupyter-widgets/base",
            "_model_module_version": "1.2.0",
            "_model_name": "LayoutModel",
            "_view_count": null,
            "_view_module": "@jupyter-widgets/base",
            "_view_module_version": "1.2.0",
            "_view_name": "LayoutView",
            "align_content": null,
            "align_items": null,
            "align_self": null,
            "border": null,
            "bottom": null,
            "display": null,
            "flex": null,
            "flex_flow": null,
            "grid_area": null,
            "grid_auto_columns": null,
            "grid_auto_flow": null,
            "grid_auto_rows": null,
            "grid_column": null,
            "grid_gap": null,
            "grid_row": null,
            "grid_template_areas": null,
            "grid_template_columns": null,
            "grid_template_rows": null,
            "height": null,
            "justify_content": null,
            "justify_items": null,
            "left": null,
            "margin": null,
            "max_height": null,
            "max_width": null,
            "min_height": null,
            "min_width": null,
            "object_fit": null,
            "object_position": null,
            "order": null,
            "overflow": null,
            "overflow_x": null,
            "overflow_y": null,
            "padding": null,
            "right": null,
            "top": null,
            "visibility": null,
            "width": null
          }
        },
        "2a7e05b2b7c0499eabe805869fb1e8b1": {
          "model_module": "@jupyter-widgets/controls",
          "model_name": "DescriptionStyleModel",
          "model_module_version": "1.5.0",
          "state": {
            "_model_module": "@jupyter-widgets/controls",
            "_model_module_version": "1.5.0",
            "_model_name": "DescriptionStyleModel",
            "_view_count": null,
            "_view_module": "@jupyter-widgets/base",
            "_view_module_version": "1.2.0",
            "_view_name": "StyleView",
            "description_width": ""
          }
        },
        "b237afead7e045ac88727b994423bd51": {
          "model_module": "@jupyter-widgets/base",
          "model_name": "LayoutModel",
          "model_module_version": "1.2.0",
          "state": {
            "_model_module": "@jupyter-widgets/base",
            "_model_module_version": "1.2.0",
            "_model_name": "LayoutModel",
            "_view_count": null,
            "_view_module": "@jupyter-widgets/base",
            "_view_module_version": "1.2.0",
            "_view_name": "LayoutView",
            "align_content": null,
            "align_items": null,
            "align_self": null,
            "border": null,
            "bottom": null,
            "display": null,
            "flex": null,
            "flex_flow": null,
            "grid_area": null,
            "grid_auto_columns": null,
            "grid_auto_flow": null,
            "grid_auto_rows": null,
            "grid_column": null,
            "grid_gap": null,
            "grid_row": null,
            "grid_template_areas": null,
            "grid_template_columns": null,
            "grid_template_rows": null,
            "height": null,
            "justify_content": null,
            "justify_items": null,
            "left": null,
            "margin": null,
            "max_height": null,
            "max_width": null,
            "min_height": null,
            "min_width": null,
            "object_fit": null,
            "object_position": null,
            "order": null,
            "overflow": null,
            "overflow_x": null,
            "overflow_y": null,
            "padding": null,
            "right": null,
            "top": null,
            "visibility": null,
            "width": null
          }
        },
        "e2d230d978cb4100a9825cc1b34bbb71": {
          "model_module": "@jupyter-widgets/controls",
          "model_name": "DescriptionStyleModel",
          "model_module_version": "1.5.0",
          "state": {
            "_model_module": "@jupyter-widgets/controls",
            "_model_module_version": "1.5.0",
            "_model_name": "DescriptionStyleModel",
            "_view_count": null,
            "_view_module": "@jupyter-widgets/base",
            "_view_module_version": "1.2.0",
            "_view_name": "StyleView",
            "description_width": ""
          }
        },
        "c7d6f70f3feb48f2aace273ee07336fa": {
          "model_module": "@jupyter-widgets/base",
          "model_name": "LayoutModel",
          "model_module_version": "1.2.0",
          "state": {
            "_model_module": "@jupyter-widgets/base",
            "_model_module_version": "1.2.0",
            "_model_name": "LayoutModel",
            "_view_count": null,
            "_view_module": "@jupyter-widgets/base",
            "_view_module_version": "1.2.0",
            "_view_name": "LayoutView",
            "align_content": null,
            "align_items": null,
            "align_self": null,
            "border": null,
            "bottom": null,
            "display": null,
            "flex": null,
            "flex_flow": null,
            "grid_area": null,
            "grid_auto_columns": null,
            "grid_auto_flow": null,
            "grid_auto_rows": null,
            "grid_column": null,
            "grid_gap": null,
            "grid_row": null,
            "grid_template_areas": null,
            "grid_template_columns": null,
            "grid_template_rows": null,
            "height": null,
            "justify_content": null,
            "justify_items": null,
            "left": null,
            "margin": null,
            "max_height": null,
            "max_width": null,
            "min_height": null,
            "min_width": null,
            "object_fit": null,
            "object_position": null,
            "order": null,
            "overflow": null,
            "overflow_x": null,
            "overflow_y": null,
            "padding": null,
            "right": null,
            "top": null,
            "visibility": null,
            "width": null
          }
        },
        "e340f3733f704cffb49ed0ad54453bc4": {
          "model_module": "@jupyter-widgets/controls",
          "model_name": "DescriptionStyleModel",
          "model_module_version": "1.5.0",
          "state": {
            "_model_module": "@jupyter-widgets/controls",
            "_model_module_version": "1.5.0",
            "_model_name": "DescriptionStyleModel",
            "_view_count": null,
            "_view_module": "@jupyter-widgets/base",
            "_view_module_version": "1.2.0",
            "_view_name": "StyleView",
            "description_width": ""
          }
        },
        "424fce4e6b384ce5a61b557edc82077e": {
          "model_module": "@jupyter-widgets/base",
          "model_name": "LayoutModel",
          "model_module_version": "1.2.0",
          "state": {
            "_model_module": "@jupyter-widgets/base",
            "_model_module_version": "1.2.0",
            "_model_name": "LayoutModel",
            "_view_count": null,
            "_view_module": "@jupyter-widgets/base",
            "_view_module_version": "1.2.0",
            "_view_name": "LayoutView",
            "align_content": null,
            "align_items": null,
            "align_self": null,
            "border": null,
            "bottom": null,
            "display": null,
            "flex": null,
            "flex_flow": null,
            "grid_area": null,
            "grid_auto_columns": null,
            "grid_auto_flow": null,
            "grid_auto_rows": null,
            "grid_column": null,
            "grid_gap": null,
            "grid_row": null,
            "grid_template_areas": null,
            "grid_template_columns": null,
            "grid_template_rows": null,
            "height": null,
            "justify_content": null,
            "justify_items": null,
            "left": null,
            "margin": null,
            "max_height": null,
            "max_width": null,
            "min_height": null,
            "min_width": null,
            "object_fit": null,
            "object_position": null,
            "order": null,
            "overflow": null,
            "overflow_x": null,
            "overflow_y": null,
            "padding": null,
            "right": null,
            "top": null,
            "visibility": null,
            "width": null
          }
        },
        "8b86020193644bb2950fe4109c143e24": {
          "model_module": "@jupyter-widgets/controls",
          "model_name": "ButtonStyleModel",
          "model_module_version": "1.5.0",
          "state": {
            "_model_module": "@jupyter-widgets/controls",
            "_model_module_version": "1.5.0",
            "_model_name": "ButtonStyleModel",
            "_view_count": null,
            "_view_module": "@jupyter-widgets/base",
            "_view_module_version": "1.2.0",
            "_view_name": "StyleView",
            "button_color": null,
            "font_weight": ""
          }
        },
        "c022be60341c4335a1d280369ceb0a43": {
          "model_module": "@jupyter-widgets/base",
          "model_name": "LayoutModel",
          "model_module_version": "1.2.0",
          "state": {
            "_model_module": "@jupyter-widgets/base",
            "_model_module_version": "1.2.0",
            "_model_name": "LayoutModel",
            "_view_count": null,
            "_view_module": "@jupyter-widgets/base",
            "_view_module_version": "1.2.0",
            "_view_name": "LayoutView",
            "align_content": null,
            "align_items": null,
            "align_self": null,
            "border": null,
            "bottom": null,
            "display": null,
            "flex": null,
            "flex_flow": null,
            "grid_area": null,
            "grid_auto_columns": null,
            "grid_auto_flow": null,
            "grid_auto_rows": null,
            "grid_column": null,
            "grid_gap": null,
            "grid_row": null,
            "grid_template_areas": null,
            "grid_template_columns": null,
            "grid_template_rows": null,
            "height": null,
            "justify_content": null,
            "justify_items": null,
            "left": null,
            "margin": null,
            "max_height": null,
            "max_width": null,
            "min_height": null,
            "min_width": null,
            "object_fit": null,
            "object_position": null,
            "order": null,
            "overflow": null,
            "overflow_x": null,
            "overflow_y": null,
            "padding": null,
            "right": null,
            "top": null,
            "visibility": null,
            "width": null
          }
        },
        "a0a317c60279491abb51773a5b35d884": {
          "model_module": "@jupyter-widgets/controls",
          "model_name": "DescriptionStyleModel",
          "model_module_version": "1.5.0",
          "state": {
            "_model_module": "@jupyter-widgets/controls",
            "_model_module_version": "1.5.0",
            "_model_name": "DescriptionStyleModel",
            "_view_count": null,
            "_view_module": "@jupyter-widgets/base",
            "_view_module_version": "1.2.0",
            "_view_name": "StyleView",
            "description_width": ""
          }
        },
        "837921497f87453ca70a35f2c63cb712": {
          "model_module": "@jupyter-widgets/controls",
          "model_name": "HBoxModel",
          "model_module_version": "1.5.0",
          "state": {
            "_dom_classes": [],
            "_model_module": "@jupyter-widgets/controls",
            "_model_module_version": "1.5.0",
            "_model_name": "HBoxModel",
            "_view_count": null,
            "_view_module": "@jupyter-widgets/controls",
            "_view_module_version": "1.5.0",
            "_view_name": "HBoxView",
            "box_style": "",
            "children": [
              "IPY_MODEL_e9701861f7644970a56f0d014a363b84",
              "IPY_MODEL_691254195b2d4992b8390394ffb80979",
              "IPY_MODEL_d18d58e6d57044308d3a281adc433c21"
            ],
            "layout": "IPY_MODEL_42a3c8ed37c54235b05fa1f4f8163ba7"
          }
        },
        "e9701861f7644970a56f0d014a363b84": {
          "model_module": "@jupyter-widgets/controls",
          "model_name": "HTMLModel",
          "model_module_version": "1.5.0",
          "state": {
            "_dom_classes": [],
            "_model_module": "@jupyter-widgets/controls",
            "_model_module_version": "1.5.0",
            "_model_name": "HTMLModel",
            "_view_count": null,
            "_view_module": "@jupyter-widgets/controls",
            "_view_module_version": "1.5.0",
            "_view_name": "HTMLView",
            "description": "",
            "description_tooltip": null,
            "layout": "IPY_MODEL_32587ab6194c40938c017c0d140bdb68",
            "placeholder": "​",
            "style": "IPY_MODEL_2af5c117d7fd4f46ab44926b5d7eb69d",
            "value": "Map: 100%"
          }
        },
        "691254195b2d4992b8390394ffb80979": {
          "model_module": "@jupyter-widgets/controls",
          "model_name": "FloatProgressModel",
          "model_module_version": "1.5.0",
          "state": {
            "_dom_classes": [],
            "_model_module": "@jupyter-widgets/controls",
            "_model_module_version": "1.5.0",
            "_model_name": "FloatProgressModel",
            "_view_count": null,
            "_view_module": "@jupyter-widgets/controls",
            "_view_module_version": "1.5.0",
            "_view_name": "ProgressView",
            "bar_style": "success",
            "description": "",
            "description_tooltip": null,
            "layout": "IPY_MODEL_d74986950a30405687cc6f47c5897310",
            "max": 38805,
            "min": 0,
            "orientation": "horizontal",
            "style": "IPY_MODEL_806cb2970a5c4e3abda59342af957a30",
            "value": 38805
          }
        },
        "d18d58e6d57044308d3a281adc433c21": {
          "model_module": "@jupyter-widgets/controls",
          "model_name": "HTMLModel",
          "model_module_version": "1.5.0",
          "state": {
            "_dom_classes": [],
            "_model_module": "@jupyter-widgets/controls",
            "_model_module_version": "1.5.0",
            "_model_name": "HTMLModel",
            "_view_count": null,
            "_view_module": "@jupyter-widgets/controls",
            "_view_module_version": "1.5.0",
            "_view_name": "HTMLView",
            "description": "",
            "description_tooltip": null,
            "layout": "IPY_MODEL_75164a957982473999ca43e05af0e420",
            "placeholder": "​",
            "style": "IPY_MODEL_69ee111cdf60409d878984af3c84264f",
            "value": " 38805/38805 [00:04&lt;00:00, 7658.52 examples/s]"
          }
        },
        "42a3c8ed37c54235b05fa1f4f8163ba7": {
          "model_module": "@jupyter-widgets/base",
          "model_name": "LayoutModel",
          "model_module_version": "1.2.0",
          "state": {
            "_model_module": "@jupyter-widgets/base",
            "_model_module_version": "1.2.0",
            "_model_name": "LayoutModel",
            "_view_count": null,
            "_view_module": "@jupyter-widgets/base",
            "_view_module_version": "1.2.0",
            "_view_name": "LayoutView",
            "align_content": null,
            "align_items": null,
            "align_self": null,
            "border": null,
            "bottom": null,
            "display": null,
            "flex": null,
            "flex_flow": null,
            "grid_area": null,
            "grid_auto_columns": null,
            "grid_auto_flow": null,
            "grid_auto_rows": null,
            "grid_column": null,
            "grid_gap": null,
            "grid_row": null,
            "grid_template_areas": null,
            "grid_template_columns": null,
            "grid_template_rows": null,
            "height": null,
            "justify_content": null,
            "justify_items": null,
            "left": null,
            "margin": null,
            "max_height": null,
            "max_width": null,
            "min_height": null,
            "min_width": null,
            "object_fit": null,
            "object_position": null,
            "order": null,
            "overflow": null,
            "overflow_x": null,
            "overflow_y": null,
            "padding": null,
            "right": null,
            "top": null,
            "visibility": null,
            "width": null
          }
        },
        "32587ab6194c40938c017c0d140bdb68": {
          "model_module": "@jupyter-widgets/base",
          "model_name": "LayoutModel",
          "model_module_version": "1.2.0",
          "state": {
            "_model_module": "@jupyter-widgets/base",
            "_model_module_version": "1.2.0",
            "_model_name": "LayoutModel",
            "_view_count": null,
            "_view_module": "@jupyter-widgets/base",
            "_view_module_version": "1.2.0",
            "_view_name": "LayoutView",
            "align_content": null,
            "align_items": null,
            "align_self": null,
            "border": null,
            "bottom": null,
            "display": null,
            "flex": null,
            "flex_flow": null,
            "grid_area": null,
            "grid_auto_columns": null,
            "grid_auto_flow": null,
            "grid_auto_rows": null,
            "grid_column": null,
            "grid_gap": null,
            "grid_row": null,
            "grid_template_areas": null,
            "grid_template_columns": null,
            "grid_template_rows": null,
            "height": null,
            "justify_content": null,
            "justify_items": null,
            "left": null,
            "margin": null,
            "max_height": null,
            "max_width": null,
            "min_height": null,
            "min_width": null,
            "object_fit": null,
            "object_position": null,
            "order": null,
            "overflow": null,
            "overflow_x": null,
            "overflow_y": null,
            "padding": null,
            "right": null,
            "top": null,
            "visibility": null,
            "width": null
          }
        },
        "2af5c117d7fd4f46ab44926b5d7eb69d": {
          "model_module": "@jupyter-widgets/controls",
          "model_name": "DescriptionStyleModel",
          "model_module_version": "1.5.0",
          "state": {
            "_model_module": "@jupyter-widgets/controls",
            "_model_module_version": "1.5.0",
            "_model_name": "DescriptionStyleModel",
            "_view_count": null,
            "_view_module": "@jupyter-widgets/base",
            "_view_module_version": "1.2.0",
            "_view_name": "StyleView",
            "description_width": ""
          }
        },
        "d74986950a30405687cc6f47c5897310": {
          "model_module": "@jupyter-widgets/base",
          "model_name": "LayoutModel",
          "model_module_version": "1.2.0",
          "state": {
            "_model_module": "@jupyter-widgets/base",
            "_model_module_version": "1.2.0",
            "_model_name": "LayoutModel",
            "_view_count": null,
            "_view_module": "@jupyter-widgets/base",
            "_view_module_version": "1.2.0",
            "_view_name": "LayoutView",
            "align_content": null,
            "align_items": null,
            "align_self": null,
            "border": null,
            "bottom": null,
            "display": null,
            "flex": null,
            "flex_flow": null,
            "grid_area": null,
            "grid_auto_columns": null,
            "grid_auto_flow": null,
            "grid_auto_rows": null,
            "grid_column": null,
            "grid_gap": null,
            "grid_row": null,
            "grid_template_areas": null,
            "grid_template_columns": null,
            "grid_template_rows": null,
            "height": null,
            "justify_content": null,
            "justify_items": null,
            "left": null,
            "margin": null,
            "max_height": null,
            "max_width": null,
            "min_height": null,
            "min_width": null,
            "object_fit": null,
            "object_position": null,
            "order": null,
            "overflow": null,
            "overflow_x": null,
            "overflow_y": null,
            "padding": null,
            "right": null,
            "top": null,
            "visibility": null,
            "width": null
          }
        },
        "806cb2970a5c4e3abda59342af957a30": {
          "model_module": "@jupyter-widgets/controls",
          "model_name": "ProgressStyleModel",
          "model_module_version": "1.5.0",
          "state": {
            "_model_module": "@jupyter-widgets/controls",
            "_model_module_version": "1.5.0",
            "_model_name": "ProgressStyleModel",
            "_view_count": null,
            "_view_module": "@jupyter-widgets/base",
            "_view_module_version": "1.2.0",
            "_view_name": "StyleView",
            "bar_color": null,
            "description_width": ""
          }
        },
        "75164a957982473999ca43e05af0e420": {
          "model_module": "@jupyter-widgets/base",
          "model_name": "LayoutModel",
          "model_module_version": "1.2.0",
          "state": {
            "_model_module": "@jupyter-widgets/base",
            "_model_module_version": "1.2.0",
            "_model_name": "LayoutModel",
            "_view_count": null,
            "_view_module": "@jupyter-widgets/base",
            "_view_module_version": "1.2.0",
            "_view_name": "LayoutView",
            "align_content": null,
            "align_items": null,
            "align_self": null,
            "border": null,
            "bottom": null,
            "display": null,
            "flex": null,
            "flex_flow": null,
            "grid_area": null,
            "grid_auto_columns": null,
            "grid_auto_flow": null,
            "grid_auto_rows": null,
            "grid_column": null,
            "grid_gap": null,
            "grid_row": null,
            "grid_template_areas": null,
            "grid_template_columns": null,
            "grid_template_rows": null,
            "height": null,
            "justify_content": null,
            "justify_items": null,
            "left": null,
            "margin": null,
            "max_height": null,
            "max_width": null,
            "min_height": null,
            "min_width": null,
            "object_fit": null,
            "object_position": null,
            "order": null,
            "overflow": null,
            "overflow_x": null,
            "overflow_y": null,
            "padding": null,
            "right": null,
            "top": null,
            "visibility": null,
            "width": null
          }
        },
        "69ee111cdf60409d878984af3c84264f": {
          "model_module": "@jupyter-widgets/controls",
          "model_name": "DescriptionStyleModel",
          "model_module_version": "1.5.0",
          "state": {
            "_model_module": "@jupyter-widgets/controls",
            "_model_module_version": "1.5.0",
            "_model_name": "DescriptionStyleModel",
            "_view_count": null,
            "_view_module": "@jupyter-widgets/base",
            "_view_module_version": "1.2.0",
            "_view_name": "StyleView",
            "description_width": ""
          }
        },
        "81eade237428497dbb80641414dc0a6f": {
          "model_module": "@jupyter-widgets/controls",
          "model_name": "HBoxModel",
          "model_module_version": "1.5.0",
          "state": {
            "_dom_classes": [],
            "_model_module": "@jupyter-widgets/controls",
            "_model_module_version": "1.5.0",
            "_model_name": "HBoxModel",
            "_view_count": null,
            "_view_module": "@jupyter-widgets/controls",
            "_view_module_version": "1.5.0",
            "_view_name": "HBoxView",
            "box_style": "",
            "children": [
              "IPY_MODEL_0dc17e37b0f947b89b3694a1b6acf515",
              "IPY_MODEL_203eb1d0bc964f66a55f5a2e3e6dd941",
              "IPY_MODEL_28d1a5aa2272492ca9b517ef9e333f03"
            ],
            "layout": "IPY_MODEL_967f12c31bc54b5aaa83f8c181f049cb"
          }
        },
        "0dc17e37b0f947b89b3694a1b6acf515": {
          "model_module": "@jupyter-widgets/controls",
          "model_name": "HTMLModel",
          "model_module_version": "1.5.0",
          "state": {
            "_dom_classes": [],
            "_model_module": "@jupyter-widgets/controls",
            "_model_module_version": "1.5.0",
            "_model_name": "HTMLModel",
            "_view_count": null,
            "_view_module": "@jupyter-widgets/controls",
            "_view_module_version": "1.5.0",
            "_view_name": "HTMLView",
            "description": "",
            "description_tooltip": null,
            "layout": "IPY_MODEL_41cd4785dfd349e29b2162d3120aa486",
            "placeholder": "​",
            "style": "IPY_MODEL_6a074e32cb454b4a8965933fa4ed7308",
            "value": "Map: 100%"
          }
        },
        "203eb1d0bc964f66a55f5a2e3e6dd941": {
          "model_module": "@jupyter-widgets/controls",
          "model_name": "FloatProgressModel",
          "model_module_version": "1.5.0",
          "state": {
            "_dom_classes": [],
            "_model_module": "@jupyter-widgets/controls",
            "_model_module_version": "1.5.0",
            "_model_name": "FloatProgressModel",
            "_view_count": null,
            "_view_module": "@jupyter-widgets/controls",
            "_view_module_version": "1.5.0",
            "_view_name": "ProgressView",
            "bar_style": "success",
            "description": "",
            "description_tooltip": null,
            "layout": "IPY_MODEL_5a33660a6ff547d6a408d9ff671f2ad6",
            "max": 10478,
            "min": 0,
            "orientation": "horizontal",
            "style": "IPY_MODEL_bd43a100baf04541b298c9d54a369fcb",
            "value": 10478
          }
        },
        "28d1a5aa2272492ca9b517ef9e333f03": {
          "model_module": "@jupyter-widgets/controls",
          "model_name": "HTMLModel",
          "model_module_version": "1.5.0",
          "state": {
            "_dom_classes": [],
            "_model_module": "@jupyter-widgets/controls",
            "_model_module_version": "1.5.0",
            "_model_name": "HTMLModel",
            "_view_count": null,
            "_view_module": "@jupyter-widgets/controls",
            "_view_module_version": "1.5.0",
            "_view_name": "HTMLView",
            "description": "",
            "description_tooltip": null,
            "layout": "IPY_MODEL_cb57cf86bf134d47859d28e3c6bd04cd",
            "placeholder": "​",
            "style": "IPY_MODEL_d1835eaa9b834e4ea761804c679f4a33",
            "value": " 10478/10478 [00:01&lt;00:00, 6190.39 examples/s]"
          }
        },
        "967f12c31bc54b5aaa83f8c181f049cb": {
          "model_module": "@jupyter-widgets/base",
          "model_name": "LayoutModel",
          "model_module_version": "1.2.0",
          "state": {
            "_model_module": "@jupyter-widgets/base",
            "_model_module_version": "1.2.0",
            "_model_name": "LayoutModel",
            "_view_count": null,
            "_view_module": "@jupyter-widgets/base",
            "_view_module_version": "1.2.0",
            "_view_name": "LayoutView",
            "align_content": null,
            "align_items": null,
            "align_self": null,
            "border": null,
            "bottom": null,
            "display": null,
            "flex": null,
            "flex_flow": null,
            "grid_area": null,
            "grid_auto_columns": null,
            "grid_auto_flow": null,
            "grid_auto_rows": null,
            "grid_column": null,
            "grid_gap": null,
            "grid_row": null,
            "grid_template_areas": null,
            "grid_template_columns": null,
            "grid_template_rows": null,
            "height": null,
            "justify_content": null,
            "justify_items": null,
            "left": null,
            "margin": null,
            "max_height": null,
            "max_width": null,
            "min_height": null,
            "min_width": null,
            "object_fit": null,
            "object_position": null,
            "order": null,
            "overflow": null,
            "overflow_x": null,
            "overflow_y": null,
            "padding": null,
            "right": null,
            "top": null,
            "visibility": null,
            "width": null
          }
        },
        "41cd4785dfd349e29b2162d3120aa486": {
          "model_module": "@jupyter-widgets/base",
          "model_name": "LayoutModel",
          "model_module_version": "1.2.0",
          "state": {
            "_model_module": "@jupyter-widgets/base",
            "_model_module_version": "1.2.0",
            "_model_name": "LayoutModel",
            "_view_count": null,
            "_view_module": "@jupyter-widgets/base",
            "_view_module_version": "1.2.0",
            "_view_name": "LayoutView",
            "align_content": null,
            "align_items": null,
            "align_self": null,
            "border": null,
            "bottom": null,
            "display": null,
            "flex": null,
            "flex_flow": null,
            "grid_area": null,
            "grid_auto_columns": null,
            "grid_auto_flow": null,
            "grid_auto_rows": null,
            "grid_column": null,
            "grid_gap": null,
            "grid_row": null,
            "grid_template_areas": null,
            "grid_template_columns": null,
            "grid_template_rows": null,
            "height": null,
            "justify_content": null,
            "justify_items": null,
            "left": null,
            "margin": null,
            "max_height": null,
            "max_width": null,
            "min_height": null,
            "min_width": null,
            "object_fit": null,
            "object_position": null,
            "order": null,
            "overflow": null,
            "overflow_x": null,
            "overflow_y": null,
            "padding": null,
            "right": null,
            "top": null,
            "visibility": null,
            "width": null
          }
        },
        "6a074e32cb454b4a8965933fa4ed7308": {
          "model_module": "@jupyter-widgets/controls",
          "model_name": "DescriptionStyleModel",
          "model_module_version": "1.5.0",
          "state": {
            "_model_module": "@jupyter-widgets/controls",
            "_model_module_version": "1.5.0",
            "_model_name": "DescriptionStyleModel",
            "_view_count": null,
            "_view_module": "@jupyter-widgets/base",
            "_view_module_version": "1.2.0",
            "_view_name": "StyleView",
            "description_width": ""
          }
        },
        "5a33660a6ff547d6a408d9ff671f2ad6": {
          "model_module": "@jupyter-widgets/base",
          "model_name": "LayoutModel",
          "model_module_version": "1.2.0",
          "state": {
            "_model_module": "@jupyter-widgets/base",
            "_model_module_version": "1.2.0",
            "_model_name": "LayoutModel",
            "_view_count": null,
            "_view_module": "@jupyter-widgets/base",
            "_view_module_version": "1.2.0",
            "_view_name": "LayoutView",
            "align_content": null,
            "align_items": null,
            "align_self": null,
            "border": null,
            "bottom": null,
            "display": null,
            "flex": null,
            "flex_flow": null,
            "grid_area": null,
            "grid_auto_columns": null,
            "grid_auto_flow": null,
            "grid_auto_rows": null,
            "grid_column": null,
            "grid_gap": null,
            "grid_row": null,
            "grid_template_areas": null,
            "grid_template_columns": null,
            "grid_template_rows": null,
            "height": null,
            "justify_content": null,
            "justify_items": null,
            "left": null,
            "margin": null,
            "max_height": null,
            "max_width": null,
            "min_height": null,
            "min_width": null,
            "object_fit": null,
            "object_position": null,
            "order": null,
            "overflow": null,
            "overflow_x": null,
            "overflow_y": null,
            "padding": null,
            "right": null,
            "top": null,
            "visibility": null,
            "width": null
          }
        },
        "bd43a100baf04541b298c9d54a369fcb": {
          "model_module": "@jupyter-widgets/controls",
          "model_name": "ProgressStyleModel",
          "model_module_version": "1.5.0",
          "state": {
            "_model_module": "@jupyter-widgets/controls",
            "_model_module_version": "1.5.0",
            "_model_name": "ProgressStyleModel",
            "_view_count": null,
            "_view_module": "@jupyter-widgets/base",
            "_view_module_version": "1.2.0",
            "_view_name": "StyleView",
            "bar_color": null,
            "description_width": ""
          }
        },
        "cb57cf86bf134d47859d28e3c6bd04cd": {
          "model_module": "@jupyter-widgets/base",
          "model_name": "LayoutModel",
          "model_module_version": "1.2.0",
          "state": {
            "_model_module": "@jupyter-widgets/base",
            "_model_module_version": "1.2.0",
            "_model_name": "LayoutModel",
            "_view_count": null,
            "_view_module": "@jupyter-widgets/base",
            "_view_module_version": "1.2.0",
            "_view_name": "LayoutView",
            "align_content": null,
            "align_items": null,
            "align_self": null,
            "border": null,
            "bottom": null,
            "display": null,
            "flex": null,
            "flex_flow": null,
            "grid_area": null,
            "grid_auto_columns": null,
            "grid_auto_flow": null,
            "grid_auto_rows": null,
            "grid_column": null,
            "grid_gap": null,
            "grid_row": null,
            "grid_template_areas": null,
            "grid_template_columns": null,
            "grid_template_rows": null,
            "height": null,
            "justify_content": null,
            "justify_items": null,
            "left": null,
            "margin": null,
            "max_height": null,
            "max_width": null,
            "min_height": null,
            "min_width": null,
            "object_fit": null,
            "object_position": null,
            "order": null,
            "overflow": null,
            "overflow_x": null,
            "overflow_y": null,
            "padding": null,
            "right": null,
            "top": null,
            "visibility": null,
            "width": null
          }
        },
        "d1835eaa9b834e4ea761804c679f4a33": {
          "model_module": "@jupyter-widgets/controls",
          "model_name": "DescriptionStyleModel",
          "model_module_version": "1.5.0",
          "state": {
            "_model_module": "@jupyter-widgets/controls",
            "_model_module_version": "1.5.0",
            "_model_name": "DescriptionStyleModel",
            "_view_count": null,
            "_view_module": "@jupyter-widgets/base",
            "_view_module_version": "1.2.0",
            "_view_name": "StyleView",
            "description_width": ""
          }
        },
        "13fd82f7c86d4aea9d5fc00e54a5a1f5": {
          "model_module": "@jupyter-widgets/controls",
          "model_name": "HBoxModel",
          "model_module_version": "1.5.0",
          "state": {
            "_dom_classes": [],
            "_model_module": "@jupyter-widgets/controls",
            "_model_module_version": "1.5.0",
            "_model_name": "HBoxModel",
            "_view_count": null,
            "_view_module": "@jupyter-widgets/controls",
            "_view_module_version": "1.5.0",
            "_view_name": "HBoxView",
            "box_style": "",
            "children": [
              "IPY_MODEL_f6099ca893114cc0b251931c5bb07c03",
              "IPY_MODEL_b6c3bd4480e5400c863805de2758917e",
              "IPY_MODEL_1bf1fbc282134dd1aa62e4c425d24481"
            ],
            "layout": "IPY_MODEL_bb817b2e412b428893707130ac94c762"
          }
        },
        "f6099ca893114cc0b251931c5bb07c03": {
          "model_module": "@jupyter-widgets/controls",
          "model_name": "HTMLModel",
          "model_module_version": "1.5.0",
          "state": {
            "_dom_classes": [],
            "_model_module": "@jupyter-widgets/controls",
            "_model_module_version": "1.5.0",
            "_model_name": "HTMLModel",
            "_view_count": null,
            "_view_module": "@jupyter-widgets/controls",
            "_view_module_version": "1.5.0",
            "_view_name": "HTMLView",
            "description": "",
            "description_tooltip": null,
            "layout": "IPY_MODEL_b7eb898a1803400295fc646acdd34c0c",
            "placeholder": "​",
            "style": "IPY_MODEL_c93ab253fd9c42beaeeac2011107f78a",
            "value": "Map: 100%"
          }
        },
        "b6c3bd4480e5400c863805de2758917e": {
          "model_module": "@jupyter-widgets/controls",
          "model_name": "FloatProgressModel",
          "model_module_version": "1.5.0",
          "state": {
            "_dom_classes": [],
            "_model_module": "@jupyter-widgets/controls",
            "_model_module_version": "1.5.0",
            "_model_name": "FloatProgressModel",
            "_view_count": null,
            "_view_module": "@jupyter-widgets/controls",
            "_view_module_version": "1.5.0",
            "_view_name": "ProgressView",
            "bar_style": "success",
            "description": "",
            "description_tooltip": null,
            "layout": "IPY_MODEL_6f32463536d246d8908297705c405b3b",
            "max": 38805,
            "min": 0,
            "orientation": "horizontal",
            "style": "IPY_MODEL_2d6be5d482ba430cb009fee7c500992e",
            "value": 38805
          }
        },
        "1bf1fbc282134dd1aa62e4c425d24481": {
          "model_module": "@jupyter-widgets/controls",
          "model_name": "HTMLModel",
          "model_module_version": "1.5.0",
          "state": {
            "_dom_classes": [],
            "_model_module": "@jupyter-widgets/controls",
            "_model_module_version": "1.5.0",
            "_model_name": "HTMLModel",
            "_view_count": null,
            "_view_module": "@jupyter-widgets/controls",
            "_view_module_version": "1.5.0",
            "_view_name": "HTMLView",
            "description": "",
            "description_tooltip": null,
            "layout": "IPY_MODEL_eeec5605a9b445f0a3665c0d0773a01f",
            "placeholder": "​",
            "style": "IPY_MODEL_a253b50cb14642beac07b10c2bf1b9d4",
            "value": " 38805/38805 [00:00&lt;00:00, 83840.02 examples/s]"
          }
        },
        "bb817b2e412b428893707130ac94c762": {
          "model_module": "@jupyter-widgets/base",
          "model_name": "LayoutModel",
          "model_module_version": "1.2.0",
          "state": {
            "_model_module": "@jupyter-widgets/base",
            "_model_module_version": "1.2.0",
            "_model_name": "LayoutModel",
            "_view_count": null,
            "_view_module": "@jupyter-widgets/base",
            "_view_module_version": "1.2.0",
            "_view_name": "LayoutView",
            "align_content": null,
            "align_items": null,
            "align_self": null,
            "border": null,
            "bottom": null,
            "display": null,
            "flex": null,
            "flex_flow": null,
            "grid_area": null,
            "grid_auto_columns": null,
            "grid_auto_flow": null,
            "grid_auto_rows": null,
            "grid_column": null,
            "grid_gap": null,
            "grid_row": null,
            "grid_template_areas": null,
            "grid_template_columns": null,
            "grid_template_rows": null,
            "height": null,
            "justify_content": null,
            "justify_items": null,
            "left": null,
            "margin": null,
            "max_height": null,
            "max_width": null,
            "min_height": null,
            "min_width": null,
            "object_fit": null,
            "object_position": null,
            "order": null,
            "overflow": null,
            "overflow_x": null,
            "overflow_y": null,
            "padding": null,
            "right": null,
            "top": null,
            "visibility": null,
            "width": null
          }
        },
        "b7eb898a1803400295fc646acdd34c0c": {
          "model_module": "@jupyter-widgets/base",
          "model_name": "LayoutModel",
          "model_module_version": "1.2.0",
          "state": {
            "_model_module": "@jupyter-widgets/base",
            "_model_module_version": "1.2.0",
            "_model_name": "LayoutModel",
            "_view_count": null,
            "_view_module": "@jupyter-widgets/base",
            "_view_module_version": "1.2.0",
            "_view_name": "LayoutView",
            "align_content": null,
            "align_items": null,
            "align_self": null,
            "border": null,
            "bottom": null,
            "display": null,
            "flex": null,
            "flex_flow": null,
            "grid_area": null,
            "grid_auto_columns": null,
            "grid_auto_flow": null,
            "grid_auto_rows": null,
            "grid_column": null,
            "grid_gap": null,
            "grid_row": null,
            "grid_template_areas": null,
            "grid_template_columns": null,
            "grid_template_rows": null,
            "height": null,
            "justify_content": null,
            "justify_items": null,
            "left": null,
            "margin": null,
            "max_height": null,
            "max_width": null,
            "min_height": null,
            "min_width": null,
            "object_fit": null,
            "object_position": null,
            "order": null,
            "overflow": null,
            "overflow_x": null,
            "overflow_y": null,
            "padding": null,
            "right": null,
            "top": null,
            "visibility": null,
            "width": null
          }
        },
        "c93ab253fd9c42beaeeac2011107f78a": {
          "model_module": "@jupyter-widgets/controls",
          "model_name": "DescriptionStyleModel",
          "model_module_version": "1.5.0",
          "state": {
            "_model_module": "@jupyter-widgets/controls",
            "_model_module_version": "1.5.0",
            "_model_name": "DescriptionStyleModel",
            "_view_count": null,
            "_view_module": "@jupyter-widgets/base",
            "_view_module_version": "1.2.0",
            "_view_name": "StyleView",
            "description_width": ""
          }
        },
        "6f32463536d246d8908297705c405b3b": {
          "model_module": "@jupyter-widgets/base",
          "model_name": "LayoutModel",
          "model_module_version": "1.2.0",
          "state": {
            "_model_module": "@jupyter-widgets/base",
            "_model_module_version": "1.2.0",
            "_model_name": "LayoutModel",
            "_view_count": null,
            "_view_module": "@jupyter-widgets/base",
            "_view_module_version": "1.2.0",
            "_view_name": "LayoutView",
            "align_content": null,
            "align_items": null,
            "align_self": null,
            "border": null,
            "bottom": null,
            "display": null,
            "flex": null,
            "flex_flow": null,
            "grid_area": null,
            "grid_auto_columns": null,
            "grid_auto_flow": null,
            "grid_auto_rows": null,
            "grid_column": null,
            "grid_gap": null,
            "grid_row": null,
            "grid_template_areas": null,
            "grid_template_columns": null,
            "grid_template_rows": null,
            "height": null,
            "justify_content": null,
            "justify_items": null,
            "left": null,
            "margin": null,
            "max_height": null,
            "max_width": null,
            "min_height": null,
            "min_width": null,
            "object_fit": null,
            "object_position": null,
            "order": null,
            "overflow": null,
            "overflow_x": null,
            "overflow_y": null,
            "padding": null,
            "right": null,
            "top": null,
            "visibility": null,
            "width": null
          }
        },
        "2d6be5d482ba430cb009fee7c500992e": {
          "model_module": "@jupyter-widgets/controls",
          "model_name": "ProgressStyleModel",
          "model_module_version": "1.5.0",
          "state": {
            "_model_module": "@jupyter-widgets/controls",
            "_model_module_version": "1.5.0",
            "_model_name": "ProgressStyleModel",
            "_view_count": null,
            "_view_module": "@jupyter-widgets/base",
            "_view_module_version": "1.2.0",
            "_view_name": "StyleView",
            "bar_color": null,
            "description_width": ""
          }
        },
        "eeec5605a9b445f0a3665c0d0773a01f": {
          "model_module": "@jupyter-widgets/base",
          "model_name": "LayoutModel",
          "model_module_version": "1.2.0",
          "state": {
            "_model_module": "@jupyter-widgets/base",
            "_model_module_version": "1.2.0",
            "_model_name": "LayoutModel",
            "_view_count": null,
            "_view_module": "@jupyter-widgets/base",
            "_view_module_version": "1.2.0",
            "_view_name": "LayoutView",
            "align_content": null,
            "align_items": null,
            "align_self": null,
            "border": null,
            "bottom": null,
            "display": null,
            "flex": null,
            "flex_flow": null,
            "grid_area": null,
            "grid_auto_columns": null,
            "grid_auto_flow": null,
            "grid_auto_rows": null,
            "grid_column": null,
            "grid_gap": null,
            "grid_row": null,
            "grid_template_areas": null,
            "grid_template_columns": null,
            "grid_template_rows": null,
            "height": null,
            "justify_content": null,
            "justify_items": null,
            "left": null,
            "margin": null,
            "max_height": null,
            "max_width": null,
            "min_height": null,
            "min_width": null,
            "object_fit": null,
            "object_position": null,
            "order": null,
            "overflow": null,
            "overflow_x": null,
            "overflow_y": null,
            "padding": null,
            "right": null,
            "top": null,
            "visibility": null,
            "width": null
          }
        },
        "a253b50cb14642beac07b10c2bf1b9d4": {
          "model_module": "@jupyter-widgets/controls",
          "model_name": "DescriptionStyleModel",
          "model_module_version": "1.5.0",
          "state": {
            "_model_module": "@jupyter-widgets/controls",
            "_model_module_version": "1.5.0",
            "_model_name": "DescriptionStyleModel",
            "_view_count": null,
            "_view_module": "@jupyter-widgets/base",
            "_view_module_version": "1.2.0",
            "_view_name": "StyleView",
            "description_width": ""
          }
        },
        "5bb727efcc0f4e0f875adaee5e2c5aef": {
          "model_module": "@jupyter-widgets/controls",
          "model_name": "HBoxModel",
          "model_module_version": "1.5.0",
          "state": {
            "_dom_classes": [],
            "_model_module": "@jupyter-widgets/controls",
            "_model_module_version": "1.5.0",
            "_model_name": "HBoxModel",
            "_view_count": null,
            "_view_module": "@jupyter-widgets/controls",
            "_view_module_version": "1.5.0",
            "_view_name": "HBoxView",
            "box_style": "",
            "children": [
              "IPY_MODEL_4d927d86e32b4ec194eb10caf70a22eb",
              "IPY_MODEL_8caec6794b72426dad40fe57fd90081f",
              "IPY_MODEL_18b7226d632045929f8c83b37fe95312"
            ],
            "layout": "IPY_MODEL_21536f5ab42e4d8cabcf768233b75d84"
          }
        },
        "4d927d86e32b4ec194eb10caf70a22eb": {
          "model_module": "@jupyter-widgets/controls",
          "model_name": "HTMLModel",
          "model_module_version": "1.5.0",
          "state": {
            "_dom_classes": [],
            "_model_module": "@jupyter-widgets/controls",
            "_model_module_version": "1.5.0",
            "_model_name": "HTMLModel",
            "_view_count": null,
            "_view_module": "@jupyter-widgets/controls",
            "_view_module_version": "1.5.0",
            "_view_name": "HTMLView",
            "description": "",
            "description_tooltip": null,
            "layout": "IPY_MODEL_0ce7510406d94bf7a7003ba938406154",
            "placeholder": "​",
            "style": "IPY_MODEL_d55aef645d854a04a96fe6009d9aca5d",
            "value": "Map: 100%"
          }
        },
        "8caec6794b72426dad40fe57fd90081f": {
          "model_module": "@jupyter-widgets/controls",
          "model_name": "FloatProgressModel",
          "model_module_version": "1.5.0",
          "state": {
            "_dom_classes": [],
            "_model_module": "@jupyter-widgets/controls",
            "_model_module_version": "1.5.0",
            "_model_name": "FloatProgressModel",
            "_view_count": null,
            "_view_module": "@jupyter-widgets/controls",
            "_view_module_version": "1.5.0",
            "_view_name": "ProgressView",
            "bar_style": "success",
            "description": "",
            "description_tooltip": null,
            "layout": "IPY_MODEL_eaefb4756b69434088d6694f455267a2",
            "max": 10478,
            "min": 0,
            "orientation": "horizontal",
            "style": "IPY_MODEL_d1c09586966b45e58328061998b0e14e",
            "value": 10478
          }
        },
        "18b7226d632045929f8c83b37fe95312": {
          "model_module": "@jupyter-widgets/controls",
          "model_name": "HTMLModel",
          "model_module_version": "1.5.0",
          "state": {
            "_dom_classes": [],
            "_model_module": "@jupyter-widgets/controls",
            "_model_module_version": "1.5.0",
            "_model_name": "HTMLModel",
            "_view_count": null,
            "_view_module": "@jupyter-widgets/controls",
            "_view_module_version": "1.5.0",
            "_view_name": "HTMLView",
            "description": "",
            "description_tooltip": null,
            "layout": "IPY_MODEL_5e02bc25c5de4ded857f4af7e41bfeaa",
            "placeholder": "​",
            "style": "IPY_MODEL_499fbc2f494343e0ab31e66e7db493c2",
            "value": " 10478/10478 [00:00&lt;00:00, 68336.87 examples/s]"
          }
        },
        "21536f5ab42e4d8cabcf768233b75d84": {
          "model_module": "@jupyter-widgets/base",
          "model_name": "LayoutModel",
          "model_module_version": "1.2.0",
          "state": {
            "_model_module": "@jupyter-widgets/base",
            "_model_module_version": "1.2.0",
            "_model_name": "LayoutModel",
            "_view_count": null,
            "_view_module": "@jupyter-widgets/base",
            "_view_module_version": "1.2.0",
            "_view_name": "LayoutView",
            "align_content": null,
            "align_items": null,
            "align_self": null,
            "border": null,
            "bottom": null,
            "display": null,
            "flex": null,
            "flex_flow": null,
            "grid_area": null,
            "grid_auto_columns": null,
            "grid_auto_flow": null,
            "grid_auto_rows": null,
            "grid_column": null,
            "grid_gap": null,
            "grid_row": null,
            "grid_template_areas": null,
            "grid_template_columns": null,
            "grid_template_rows": null,
            "height": null,
            "justify_content": null,
            "justify_items": null,
            "left": null,
            "margin": null,
            "max_height": null,
            "max_width": null,
            "min_height": null,
            "min_width": null,
            "object_fit": null,
            "object_position": null,
            "order": null,
            "overflow": null,
            "overflow_x": null,
            "overflow_y": null,
            "padding": null,
            "right": null,
            "top": null,
            "visibility": null,
            "width": null
          }
        },
        "0ce7510406d94bf7a7003ba938406154": {
          "model_module": "@jupyter-widgets/base",
          "model_name": "LayoutModel",
          "model_module_version": "1.2.0",
          "state": {
            "_model_module": "@jupyter-widgets/base",
            "_model_module_version": "1.2.0",
            "_model_name": "LayoutModel",
            "_view_count": null,
            "_view_module": "@jupyter-widgets/base",
            "_view_module_version": "1.2.0",
            "_view_name": "LayoutView",
            "align_content": null,
            "align_items": null,
            "align_self": null,
            "border": null,
            "bottom": null,
            "display": null,
            "flex": null,
            "flex_flow": null,
            "grid_area": null,
            "grid_auto_columns": null,
            "grid_auto_flow": null,
            "grid_auto_rows": null,
            "grid_column": null,
            "grid_gap": null,
            "grid_row": null,
            "grid_template_areas": null,
            "grid_template_columns": null,
            "grid_template_rows": null,
            "height": null,
            "justify_content": null,
            "justify_items": null,
            "left": null,
            "margin": null,
            "max_height": null,
            "max_width": null,
            "min_height": null,
            "min_width": null,
            "object_fit": null,
            "object_position": null,
            "order": null,
            "overflow": null,
            "overflow_x": null,
            "overflow_y": null,
            "padding": null,
            "right": null,
            "top": null,
            "visibility": null,
            "width": null
          }
        },
        "d55aef645d854a04a96fe6009d9aca5d": {
          "model_module": "@jupyter-widgets/controls",
          "model_name": "DescriptionStyleModel",
          "model_module_version": "1.5.0",
          "state": {
            "_model_module": "@jupyter-widgets/controls",
            "_model_module_version": "1.5.0",
            "_model_name": "DescriptionStyleModel",
            "_view_count": null,
            "_view_module": "@jupyter-widgets/base",
            "_view_module_version": "1.2.0",
            "_view_name": "StyleView",
            "description_width": ""
          }
        },
        "eaefb4756b69434088d6694f455267a2": {
          "model_module": "@jupyter-widgets/base",
          "model_name": "LayoutModel",
          "model_module_version": "1.2.0",
          "state": {
            "_model_module": "@jupyter-widgets/base",
            "_model_module_version": "1.2.0",
            "_model_name": "LayoutModel",
            "_view_count": null,
            "_view_module": "@jupyter-widgets/base",
            "_view_module_version": "1.2.0",
            "_view_name": "LayoutView",
            "align_content": null,
            "align_items": null,
            "align_self": null,
            "border": null,
            "bottom": null,
            "display": null,
            "flex": null,
            "flex_flow": null,
            "grid_area": null,
            "grid_auto_columns": null,
            "grid_auto_flow": null,
            "grid_auto_rows": null,
            "grid_column": null,
            "grid_gap": null,
            "grid_row": null,
            "grid_template_areas": null,
            "grid_template_columns": null,
            "grid_template_rows": null,
            "height": null,
            "justify_content": null,
            "justify_items": null,
            "left": null,
            "margin": null,
            "max_height": null,
            "max_width": null,
            "min_height": null,
            "min_width": null,
            "object_fit": null,
            "object_position": null,
            "order": null,
            "overflow": null,
            "overflow_x": null,
            "overflow_y": null,
            "padding": null,
            "right": null,
            "top": null,
            "visibility": null,
            "width": null
          }
        },
        "d1c09586966b45e58328061998b0e14e": {
          "model_module": "@jupyter-widgets/controls",
          "model_name": "ProgressStyleModel",
          "model_module_version": "1.5.0",
          "state": {
            "_model_module": "@jupyter-widgets/controls",
            "_model_module_version": "1.5.0",
            "_model_name": "ProgressStyleModel",
            "_view_count": null,
            "_view_module": "@jupyter-widgets/base",
            "_view_module_version": "1.2.0",
            "_view_name": "StyleView",
            "bar_color": null,
            "description_width": ""
          }
        },
        "5e02bc25c5de4ded857f4af7e41bfeaa": {
          "model_module": "@jupyter-widgets/base",
          "model_name": "LayoutModel",
          "model_module_version": "1.2.0",
          "state": {
            "_model_module": "@jupyter-widgets/base",
            "_model_module_version": "1.2.0",
            "_model_name": "LayoutModel",
            "_view_count": null,
            "_view_module": "@jupyter-widgets/base",
            "_view_module_version": "1.2.0",
            "_view_name": "LayoutView",
            "align_content": null,
            "align_items": null,
            "align_self": null,
            "border": null,
            "bottom": null,
            "display": null,
            "flex": null,
            "flex_flow": null,
            "grid_area": null,
            "grid_auto_columns": null,
            "grid_auto_flow": null,
            "grid_auto_rows": null,
            "grid_column": null,
            "grid_gap": null,
            "grid_row": null,
            "grid_template_areas": null,
            "grid_template_columns": null,
            "grid_template_rows": null,
            "height": null,
            "justify_content": null,
            "justify_items": null,
            "left": null,
            "margin": null,
            "max_height": null,
            "max_width": null,
            "min_height": null,
            "min_width": null,
            "object_fit": null,
            "object_position": null,
            "order": null,
            "overflow": null,
            "overflow_x": null,
            "overflow_y": null,
            "padding": null,
            "right": null,
            "top": null,
            "visibility": null,
            "width": null
          }
        },
        "499fbc2f494343e0ab31e66e7db493c2": {
          "model_module": "@jupyter-widgets/controls",
          "model_name": "DescriptionStyleModel",
          "model_module_version": "1.5.0",
          "state": {
            "_model_module": "@jupyter-widgets/controls",
            "_model_module_version": "1.5.0",
            "_model_name": "DescriptionStyleModel",
            "_view_count": null,
            "_view_module": "@jupyter-widgets/base",
            "_view_module_version": "1.2.0",
            "_view_name": "StyleView",
            "description_width": ""
          }
        },
        "b7729520d5d349a294e5d215436cdf8f": {
          "model_module": "@jupyter-widgets/controls",
          "model_name": "HBoxModel",
          "model_module_version": "1.5.0",
          "state": {
            "_dom_classes": [],
            "_model_module": "@jupyter-widgets/controls",
            "_model_module_version": "1.5.0",
            "_model_name": "HBoxModel",
            "_view_count": null,
            "_view_module": "@jupyter-widgets/controls",
            "_view_module_version": "1.5.0",
            "_view_name": "HBoxView",
            "box_style": "",
            "children": [
              "IPY_MODEL_6d5761062694488699a95274221140de",
              "IPY_MODEL_7cc32504e9cc4c68b76e05db12115c28",
              "IPY_MODEL_4ffb437939ab4ddd96a5ec4f6cf246f7"
            ],
            "layout": "IPY_MODEL_33ece20bf83d49d4814bdd8969634f91"
          }
        },
        "6d5761062694488699a95274221140de": {
          "model_module": "@jupyter-widgets/controls",
          "model_name": "HTMLModel",
          "model_module_version": "1.5.0",
          "state": {
            "_dom_classes": [],
            "_model_module": "@jupyter-widgets/controls",
            "_model_module_version": "1.5.0",
            "_model_name": "HTMLModel",
            "_view_count": null,
            "_view_module": "@jupyter-widgets/controls",
            "_view_module_version": "1.5.0",
            "_view_name": "HTMLView",
            "description": "",
            "description_tooltip": null,
            "layout": "IPY_MODEL_c041ed94ff104f22b4a31b792ef76a33",
            "placeholder": "​",
            "style": "IPY_MODEL_971ed8c8fd234b6ebbd37e44e54f7493",
            "value": "README.md: 100%"
          }
        },
        "7cc32504e9cc4c68b76e05db12115c28": {
          "model_module": "@jupyter-widgets/controls",
          "model_name": "FloatProgressModel",
          "model_module_version": "1.5.0",
          "state": {
            "_dom_classes": [],
            "_model_module": "@jupyter-widgets/controls",
            "_model_module_version": "1.5.0",
            "_model_name": "FloatProgressModel",
            "_view_count": null,
            "_view_module": "@jupyter-widgets/controls",
            "_view_module_version": "1.5.0",
            "_view_name": "ProgressView",
            "bar_style": "success",
            "description": "",
            "description_tooltip": null,
            "layout": "IPY_MODEL_d0aad6f2b63b43488361ef26b13b1de3",
            "max": 5174,
            "min": 0,
            "orientation": "horizontal",
            "style": "IPY_MODEL_2114368055ee4d6a9636da6dc181a1fb",
            "value": 5174
          }
        },
        "4ffb437939ab4ddd96a5ec4f6cf246f7": {
          "model_module": "@jupyter-widgets/controls",
          "model_name": "HTMLModel",
          "model_module_version": "1.5.0",
          "state": {
            "_dom_classes": [],
            "_model_module": "@jupyter-widgets/controls",
            "_model_module_version": "1.5.0",
            "_model_name": "HTMLModel",
            "_view_count": null,
            "_view_module": "@jupyter-widgets/controls",
            "_view_module_version": "1.5.0",
            "_view_name": "HTMLView",
            "description": "",
            "description_tooltip": null,
            "layout": "IPY_MODEL_c6e7a6c936bf4e1d96a848969cef77b2",
            "placeholder": "​",
            "style": "IPY_MODEL_df8e3169ce5e4f5fa728884a6a1a0a3a",
            "value": " 5.17k/5.17k [00:00&lt;00:00, 86.2kB/s]"
          }
        },
        "33ece20bf83d49d4814bdd8969634f91": {
          "model_module": "@jupyter-widgets/base",
          "model_name": "LayoutModel",
          "model_module_version": "1.2.0",
          "state": {
            "_model_module": "@jupyter-widgets/base",
            "_model_module_version": "1.2.0",
            "_model_name": "LayoutModel",
            "_view_count": null,
            "_view_module": "@jupyter-widgets/base",
            "_view_module_version": "1.2.0",
            "_view_name": "LayoutView",
            "align_content": null,
            "align_items": null,
            "align_self": null,
            "border": null,
            "bottom": null,
            "display": null,
            "flex": null,
            "flex_flow": null,
            "grid_area": null,
            "grid_auto_columns": null,
            "grid_auto_flow": null,
            "grid_auto_rows": null,
            "grid_column": null,
            "grid_gap": null,
            "grid_row": null,
            "grid_template_areas": null,
            "grid_template_columns": null,
            "grid_template_rows": null,
            "height": null,
            "justify_content": null,
            "justify_items": null,
            "left": null,
            "margin": null,
            "max_height": null,
            "max_width": null,
            "min_height": null,
            "min_width": null,
            "object_fit": null,
            "object_position": null,
            "order": null,
            "overflow": null,
            "overflow_x": null,
            "overflow_y": null,
            "padding": null,
            "right": null,
            "top": null,
            "visibility": null,
            "width": null
          }
        },
        "c041ed94ff104f22b4a31b792ef76a33": {
          "model_module": "@jupyter-widgets/base",
          "model_name": "LayoutModel",
          "model_module_version": "1.2.0",
          "state": {
            "_model_module": "@jupyter-widgets/base",
            "_model_module_version": "1.2.0",
            "_model_name": "LayoutModel",
            "_view_count": null,
            "_view_module": "@jupyter-widgets/base",
            "_view_module_version": "1.2.0",
            "_view_name": "LayoutView",
            "align_content": null,
            "align_items": null,
            "align_self": null,
            "border": null,
            "bottom": null,
            "display": null,
            "flex": null,
            "flex_flow": null,
            "grid_area": null,
            "grid_auto_columns": null,
            "grid_auto_flow": null,
            "grid_auto_rows": null,
            "grid_column": null,
            "grid_gap": null,
            "grid_row": null,
            "grid_template_areas": null,
            "grid_template_columns": null,
            "grid_template_rows": null,
            "height": null,
            "justify_content": null,
            "justify_items": null,
            "left": null,
            "margin": null,
            "max_height": null,
            "max_width": null,
            "min_height": null,
            "min_width": null,
            "object_fit": null,
            "object_position": null,
            "order": null,
            "overflow": null,
            "overflow_x": null,
            "overflow_y": null,
            "padding": null,
            "right": null,
            "top": null,
            "visibility": null,
            "width": null
          }
        },
        "971ed8c8fd234b6ebbd37e44e54f7493": {
          "model_module": "@jupyter-widgets/controls",
          "model_name": "DescriptionStyleModel",
          "model_module_version": "1.5.0",
          "state": {
            "_model_module": "@jupyter-widgets/controls",
            "_model_module_version": "1.5.0",
            "_model_name": "DescriptionStyleModel",
            "_view_count": null,
            "_view_module": "@jupyter-widgets/base",
            "_view_module_version": "1.2.0",
            "_view_name": "StyleView",
            "description_width": ""
          }
        },
        "d0aad6f2b63b43488361ef26b13b1de3": {
          "model_module": "@jupyter-widgets/base",
          "model_name": "LayoutModel",
          "model_module_version": "1.2.0",
          "state": {
            "_model_module": "@jupyter-widgets/base",
            "_model_module_version": "1.2.0",
            "_model_name": "LayoutModel",
            "_view_count": null,
            "_view_module": "@jupyter-widgets/base",
            "_view_module_version": "1.2.0",
            "_view_name": "LayoutView",
            "align_content": null,
            "align_items": null,
            "align_self": null,
            "border": null,
            "bottom": null,
            "display": null,
            "flex": null,
            "flex_flow": null,
            "grid_area": null,
            "grid_auto_columns": null,
            "grid_auto_flow": null,
            "grid_auto_rows": null,
            "grid_column": null,
            "grid_gap": null,
            "grid_row": null,
            "grid_template_areas": null,
            "grid_template_columns": null,
            "grid_template_rows": null,
            "height": null,
            "justify_content": null,
            "justify_items": null,
            "left": null,
            "margin": null,
            "max_height": null,
            "max_width": null,
            "min_height": null,
            "min_width": null,
            "object_fit": null,
            "object_position": null,
            "order": null,
            "overflow": null,
            "overflow_x": null,
            "overflow_y": null,
            "padding": null,
            "right": null,
            "top": null,
            "visibility": null,
            "width": null
          }
        },
        "2114368055ee4d6a9636da6dc181a1fb": {
          "model_module": "@jupyter-widgets/controls",
          "model_name": "ProgressStyleModel",
          "model_module_version": "1.5.0",
          "state": {
            "_model_module": "@jupyter-widgets/controls",
            "_model_module_version": "1.5.0",
            "_model_name": "ProgressStyleModel",
            "_view_count": null,
            "_view_module": "@jupyter-widgets/base",
            "_view_module_version": "1.2.0",
            "_view_name": "StyleView",
            "bar_color": null,
            "description_width": ""
          }
        },
        "c6e7a6c936bf4e1d96a848969cef77b2": {
          "model_module": "@jupyter-widgets/base",
          "model_name": "LayoutModel",
          "model_module_version": "1.2.0",
          "state": {
            "_model_module": "@jupyter-widgets/base",
            "_model_module_version": "1.2.0",
            "_model_name": "LayoutModel",
            "_view_count": null,
            "_view_module": "@jupyter-widgets/base",
            "_view_module_version": "1.2.0",
            "_view_name": "LayoutView",
            "align_content": null,
            "align_items": null,
            "align_self": null,
            "border": null,
            "bottom": null,
            "display": null,
            "flex": null,
            "flex_flow": null,
            "grid_area": null,
            "grid_auto_columns": null,
            "grid_auto_flow": null,
            "grid_auto_rows": null,
            "grid_column": null,
            "grid_gap": null,
            "grid_row": null,
            "grid_template_areas": null,
            "grid_template_columns": null,
            "grid_template_rows": null,
            "height": null,
            "justify_content": null,
            "justify_items": null,
            "left": null,
            "margin": null,
            "max_height": null,
            "max_width": null,
            "min_height": null,
            "min_width": null,
            "object_fit": null,
            "object_position": null,
            "order": null,
            "overflow": null,
            "overflow_x": null,
            "overflow_y": null,
            "padding": null,
            "right": null,
            "top": null,
            "visibility": null,
            "width": null
          }
        },
        "df8e3169ce5e4f5fa728884a6a1a0a3a": {
          "model_module": "@jupyter-widgets/controls",
          "model_name": "DescriptionStyleModel",
          "model_module_version": "1.5.0",
          "state": {
            "_model_module": "@jupyter-widgets/controls",
            "_model_module_version": "1.5.0",
            "_model_name": "DescriptionStyleModel",
            "_view_count": null,
            "_view_module": "@jupyter-widgets/base",
            "_view_module_version": "1.2.0",
            "_view_name": "StyleView",
            "description_width": ""
          }
        },
        "dc42b99f69354f1b986c211da7f91a6b": {
          "model_module": "@jupyter-widgets/controls",
          "model_name": "HBoxModel",
          "model_module_version": "1.5.0",
          "state": {
            "_dom_classes": [],
            "_model_module": "@jupyter-widgets/controls",
            "_model_module_version": "1.5.0",
            "_model_name": "HBoxModel",
            "_view_count": null,
            "_view_module": "@jupyter-widgets/controls",
            "_view_module_version": "1.5.0",
            "_view_name": "HBoxView",
            "box_style": "",
            "children": [
              "IPY_MODEL_8fd603ee63524d7aaf853d289846fa5d",
              "IPY_MODEL_bdbae4accea142979a7a9b546455e508",
              "IPY_MODEL_18ff5f78e71345bf9568261db3abd89e"
            ],
            "layout": "IPY_MODEL_c605c882356244bdabcbbe4d0f4f6895"
          }
        },
        "8fd603ee63524d7aaf853d289846fa5d": {
          "model_module": "@jupyter-widgets/controls",
          "model_name": "HTMLModel",
          "model_module_version": "1.5.0",
          "state": {
            "_dom_classes": [],
            "_model_module": "@jupyter-widgets/controls",
            "_model_module_version": "1.5.0",
            "_model_name": "HTMLModel",
            "_view_count": null,
            "_view_module": "@jupyter-widgets/controls",
            "_view_module_version": "1.5.0",
            "_view_name": "HTMLView",
            "description": "",
            "description_tooltip": null,
            "layout": "IPY_MODEL_034ae9ad46c4494184c4932b996391e5",
            "placeholder": "​",
            "style": "IPY_MODEL_0a9c61fc242c4e4f8a9460621f4f553f",
            "value": "Map: 100%"
          }
        },
        "bdbae4accea142979a7a9b546455e508": {
          "model_module": "@jupyter-widgets/controls",
          "model_name": "FloatProgressModel",
          "model_module_version": "1.5.0",
          "state": {
            "_dom_classes": [],
            "_model_module": "@jupyter-widgets/controls",
            "_model_module_version": "1.5.0",
            "_model_name": "FloatProgressModel",
            "_view_count": null,
            "_view_module": "@jupyter-widgets/controls",
            "_view_module_version": "1.5.0",
            "_view_name": "ProgressView",
            "bar_style": "success",
            "description": "",
            "description_tooltip": null,
            "layout": "IPY_MODEL_aa10b24d16cf47f5a259464025895a0b",
            "max": 38805,
            "min": 0,
            "orientation": "horizontal",
            "style": "IPY_MODEL_37eafe5083b64fe599a6c3a4afa100f5",
            "value": 38805
          }
        },
        "18ff5f78e71345bf9568261db3abd89e": {
          "model_module": "@jupyter-widgets/controls",
          "model_name": "HTMLModel",
          "model_module_version": "1.5.0",
          "state": {
            "_dom_classes": [],
            "_model_module": "@jupyter-widgets/controls",
            "_model_module_version": "1.5.0",
            "_model_name": "HTMLModel",
            "_view_count": null,
            "_view_module": "@jupyter-widgets/controls",
            "_view_module_version": "1.5.0",
            "_view_name": "HTMLView",
            "description": "",
            "description_tooltip": null,
            "layout": "IPY_MODEL_ce46d6ca45354096ad0daaeb910d0d83",
            "placeholder": "​",
            "style": "IPY_MODEL_5e17d5d37b6d4063b50f419d4c4e613c",
            "value": " 38805/38805 [06:21&lt;00:00, 108.59 examples/s]"
          }
        },
        "c605c882356244bdabcbbe4d0f4f6895": {
          "model_module": "@jupyter-widgets/base",
          "model_name": "LayoutModel",
          "model_module_version": "1.2.0",
          "state": {
            "_model_module": "@jupyter-widgets/base",
            "_model_module_version": "1.2.0",
            "_model_name": "LayoutModel",
            "_view_count": null,
            "_view_module": "@jupyter-widgets/base",
            "_view_module_version": "1.2.0",
            "_view_name": "LayoutView",
            "align_content": null,
            "align_items": null,
            "align_self": null,
            "border": null,
            "bottom": null,
            "display": null,
            "flex": null,
            "flex_flow": null,
            "grid_area": null,
            "grid_auto_columns": null,
            "grid_auto_flow": null,
            "grid_auto_rows": null,
            "grid_column": null,
            "grid_gap": null,
            "grid_row": null,
            "grid_template_areas": null,
            "grid_template_columns": null,
            "grid_template_rows": null,
            "height": null,
            "justify_content": null,
            "justify_items": null,
            "left": null,
            "margin": null,
            "max_height": null,
            "max_width": null,
            "min_height": null,
            "min_width": null,
            "object_fit": null,
            "object_position": null,
            "order": null,
            "overflow": null,
            "overflow_x": null,
            "overflow_y": null,
            "padding": null,
            "right": null,
            "top": null,
            "visibility": null,
            "width": null
          }
        },
        "034ae9ad46c4494184c4932b996391e5": {
          "model_module": "@jupyter-widgets/base",
          "model_name": "LayoutModel",
          "model_module_version": "1.2.0",
          "state": {
            "_model_module": "@jupyter-widgets/base",
            "_model_module_version": "1.2.0",
            "_model_name": "LayoutModel",
            "_view_count": null,
            "_view_module": "@jupyter-widgets/base",
            "_view_module_version": "1.2.0",
            "_view_name": "LayoutView",
            "align_content": null,
            "align_items": null,
            "align_self": null,
            "border": null,
            "bottom": null,
            "display": null,
            "flex": null,
            "flex_flow": null,
            "grid_area": null,
            "grid_auto_columns": null,
            "grid_auto_flow": null,
            "grid_auto_rows": null,
            "grid_column": null,
            "grid_gap": null,
            "grid_row": null,
            "grid_template_areas": null,
            "grid_template_columns": null,
            "grid_template_rows": null,
            "height": null,
            "justify_content": null,
            "justify_items": null,
            "left": null,
            "margin": null,
            "max_height": null,
            "max_width": null,
            "min_height": null,
            "min_width": null,
            "object_fit": null,
            "object_position": null,
            "order": null,
            "overflow": null,
            "overflow_x": null,
            "overflow_y": null,
            "padding": null,
            "right": null,
            "top": null,
            "visibility": null,
            "width": null
          }
        },
        "0a9c61fc242c4e4f8a9460621f4f553f": {
          "model_module": "@jupyter-widgets/controls",
          "model_name": "DescriptionStyleModel",
          "model_module_version": "1.5.0",
          "state": {
            "_model_module": "@jupyter-widgets/controls",
            "_model_module_version": "1.5.0",
            "_model_name": "DescriptionStyleModel",
            "_view_count": null,
            "_view_module": "@jupyter-widgets/base",
            "_view_module_version": "1.2.0",
            "_view_name": "StyleView",
            "description_width": ""
          }
        },
        "aa10b24d16cf47f5a259464025895a0b": {
          "model_module": "@jupyter-widgets/base",
          "model_name": "LayoutModel",
          "model_module_version": "1.2.0",
          "state": {
            "_model_module": "@jupyter-widgets/base",
            "_model_module_version": "1.2.0",
            "_model_name": "LayoutModel",
            "_view_count": null,
            "_view_module": "@jupyter-widgets/base",
            "_view_module_version": "1.2.0",
            "_view_name": "LayoutView",
            "align_content": null,
            "align_items": null,
            "align_self": null,
            "border": null,
            "bottom": null,
            "display": null,
            "flex": null,
            "flex_flow": null,
            "grid_area": null,
            "grid_auto_columns": null,
            "grid_auto_flow": null,
            "grid_auto_rows": null,
            "grid_column": null,
            "grid_gap": null,
            "grid_row": null,
            "grid_template_areas": null,
            "grid_template_columns": null,
            "grid_template_rows": null,
            "height": null,
            "justify_content": null,
            "justify_items": null,
            "left": null,
            "margin": null,
            "max_height": null,
            "max_width": null,
            "min_height": null,
            "min_width": null,
            "object_fit": null,
            "object_position": null,
            "order": null,
            "overflow": null,
            "overflow_x": null,
            "overflow_y": null,
            "padding": null,
            "right": null,
            "top": null,
            "visibility": null,
            "width": null
          }
        },
        "37eafe5083b64fe599a6c3a4afa100f5": {
          "model_module": "@jupyter-widgets/controls",
          "model_name": "ProgressStyleModel",
          "model_module_version": "1.5.0",
          "state": {
            "_model_module": "@jupyter-widgets/controls",
            "_model_module_version": "1.5.0",
            "_model_name": "ProgressStyleModel",
            "_view_count": null,
            "_view_module": "@jupyter-widgets/base",
            "_view_module_version": "1.2.0",
            "_view_name": "StyleView",
            "bar_color": null,
            "description_width": ""
          }
        },
        "ce46d6ca45354096ad0daaeb910d0d83": {
          "model_module": "@jupyter-widgets/base",
          "model_name": "LayoutModel",
          "model_module_version": "1.2.0",
          "state": {
            "_model_module": "@jupyter-widgets/base",
            "_model_module_version": "1.2.0",
            "_model_name": "LayoutModel",
            "_view_count": null,
            "_view_module": "@jupyter-widgets/base",
            "_view_module_version": "1.2.0",
            "_view_name": "LayoutView",
            "align_content": null,
            "align_items": null,
            "align_self": null,
            "border": null,
            "bottom": null,
            "display": null,
            "flex": null,
            "flex_flow": null,
            "grid_area": null,
            "grid_auto_columns": null,
            "grid_auto_flow": null,
            "grid_auto_rows": null,
            "grid_column": null,
            "grid_gap": null,
            "grid_row": null,
            "grid_template_areas": null,
            "grid_template_columns": null,
            "grid_template_rows": null,
            "height": null,
            "justify_content": null,
            "justify_items": null,
            "left": null,
            "margin": null,
            "max_height": null,
            "max_width": null,
            "min_height": null,
            "min_width": null,
            "object_fit": null,
            "object_position": null,
            "order": null,
            "overflow": null,
            "overflow_x": null,
            "overflow_y": null,
            "padding": null,
            "right": null,
            "top": null,
            "visibility": null,
            "width": null
          }
        },
        "5e17d5d37b6d4063b50f419d4c4e613c": {
          "model_module": "@jupyter-widgets/controls",
          "model_name": "DescriptionStyleModel",
          "model_module_version": "1.5.0",
          "state": {
            "_model_module": "@jupyter-widgets/controls",
            "_model_module_version": "1.5.0",
            "_model_name": "DescriptionStyleModel",
            "_view_count": null,
            "_view_module": "@jupyter-widgets/base",
            "_view_module_version": "1.2.0",
            "_view_name": "StyleView",
            "description_width": ""
          }
        },
        "2f3c223e5944496ca3e24ea72a514b69": {
          "model_module": "@jupyter-widgets/controls",
          "model_name": "HBoxModel",
          "model_module_version": "1.5.0",
          "state": {
            "_dom_classes": [],
            "_model_module": "@jupyter-widgets/controls",
            "_model_module_version": "1.5.0",
            "_model_name": "HBoxModel",
            "_view_count": null,
            "_view_module": "@jupyter-widgets/controls",
            "_view_module_version": "1.5.0",
            "_view_name": "HBoxView",
            "box_style": "",
            "children": [
              "IPY_MODEL_8d577331f8c14a9ea58576360907b68d",
              "IPY_MODEL_19162c95dae14307875b2e517c5630be",
              "IPY_MODEL_4dd8831e58714ccf90bd868768743b88"
            ],
            "layout": "IPY_MODEL_91f784fed96b4a0c9e70f580948536f6"
          }
        },
        "8d577331f8c14a9ea58576360907b68d": {
          "model_module": "@jupyter-widgets/controls",
          "model_name": "HTMLModel",
          "model_module_version": "1.5.0",
          "state": {
            "_dom_classes": [],
            "_model_module": "@jupyter-widgets/controls",
            "_model_module_version": "1.5.0",
            "_model_name": "HTMLModel",
            "_view_count": null,
            "_view_module": "@jupyter-widgets/controls",
            "_view_module_version": "1.5.0",
            "_view_name": "HTMLView",
            "description": "",
            "description_tooltip": null,
            "layout": "IPY_MODEL_69b4f55d0f8240ca9175b4907af6acc7",
            "placeholder": "​",
            "style": "IPY_MODEL_ed27c280bea7459e859cbb31b96173bc",
            "value": "Map: 100%"
          }
        },
        "19162c95dae14307875b2e517c5630be": {
          "model_module": "@jupyter-widgets/controls",
          "model_name": "FloatProgressModel",
          "model_module_version": "1.5.0",
          "state": {
            "_dom_classes": [],
            "_model_module": "@jupyter-widgets/controls",
            "_model_module_version": "1.5.0",
            "_model_name": "FloatProgressModel",
            "_view_count": null,
            "_view_module": "@jupyter-widgets/controls",
            "_view_module_version": "1.5.0",
            "_view_name": "ProgressView",
            "bar_style": "success",
            "description": "",
            "description_tooltip": null,
            "layout": "IPY_MODEL_a0d15c05a3c347f19801a588867c745a",
            "max": 10478,
            "min": 0,
            "orientation": "horizontal",
            "style": "IPY_MODEL_e7ffba78e70d4de4ab7a30a8d45ff09a",
            "value": 10478
          }
        },
        "4dd8831e58714ccf90bd868768743b88": {
          "model_module": "@jupyter-widgets/controls",
          "model_name": "HTMLModel",
          "model_module_version": "1.5.0",
          "state": {
            "_dom_classes": [],
            "_model_module": "@jupyter-widgets/controls",
            "_model_module_version": "1.5.0",
            "_model_name": "HTMLModel",
            "_view_count": null,
            "_view_module": "@jupyter-widgets/controls",
            "_view_module_version": "1.5.0",
            "_view_name": "HTMLView",
            "description": "",
            "description_tooltip": null,
            "layout": "IPY_MODEL_06fc6b38e30345a286e31983642f68e2",
            "placeholder": "​",
            "style": "IPY_MODEL_49a06e8c14954c379fe11251e93b44e4",
            "value": " 10478/10478 [01:27&lt;00:00, 151.13 examples/s]"
          }
        },
        "91f784fed96b4a0c9e70f580948536f6": {
          "model_module": "@jupyter-widgets/base",
          "model_name": "LayoutModel",
          "model_module_version": "1.2.0",
          "state": {
            "_model_module": "@jupyter-widgets/base",
            "_model_module_version": "1.2.0",
            "_model_name": "LayoutModel",
            "_view_count": null,
            "_view_module": "@jupyter-widgets/base",
            "_view_module_version": "1.2.0",
            "_view_name": "LayoutView",
            "align_content": null,
            "align_items": null,
            "align_self": null,
            "border": null,
            "bottom": null,
            "display": null,
            "flex": null,
            "flex_flow": null,
            "grid_area": null,
            "grid_auto_columns": null,
            "grid_auto_flow": null,
            "grid_auto_rows": null,
            "grid_column": null,
            "grid_gap": null,
            "grid_row": null,
            "grid_template_areas": null,
            "grid_template_columns": null,
            "grid_template_rows": null,
            "height": null,
            "justify_content": null,
            "justify_items": null,
            "left": null,
            "margin": null,
            "max_height": null,
            "max_width": null,
            "min_height": null,
            "min_width": null,
            "object_fit": null,
            "object_position": null,
            "order": null,
            "overflow": null,
            "overflow_x": null,
            "overflow_y": null,
            "padding": null,
            "right": null,
            "top": null,
            "visibility": null,
            "width": null
          }
        },
        "69b4f55d0f8240ca9175b4907af6acc7": {
          "model_module": "@jupyter-widgets/base",
          "model_name": "LayoutModel",
          "model_module_version": "1.2.0",
          "state": {
            "_model_module": "@jupyter-widgets/base",
            "_model_module_version": "1.2.0",
            "_model_name": "LayoutModel",
            "_view_count": null,
            "_view_module": "@jupyter-widgets/base",
            "_view_module_version": "1.2.0",
            "_view_name": "LayoutView",
            "align_content": null,
            "align_items": null,
            "align_self": null,
            "border": null,
            "bottom": null,
            "display": null,
            "flex": null,
            "flex_flow": null,
            "grid_area": null,
            "grid_auto_columns": null,
            "grid_auto_flow": null,
            "grid_auto_rows": null,
            "grid_column": null,
            "grid_gap": null,
            "grid_row": null,
            "grid_template_areas": null,
            "grid_template_columns": null,
            "grid_template_rows": null,
            "height": null,
            "justify_content": null,
            "justify_items": null,
            "left": null,
            "margin": null,
            "max_height": null,
            "max_width": null,
            "min_height": null,
            "min_width": null,
            "object_fit": null,
            "object_position": null,
            "order": null,
            "overflow": null,
            "overflow_x": null,
            "overflow_y": null,
            "padding": null,
            "right": null,
            "top": null,
            "visibility": null,
            "width": null
          }
        },
        "ed27c280bea7459e859cbb31b96173bc": {
          "model_module": "@jupyter-widgets/controls",
          "model_name": "DescriptionStyleModel",
          "model_module_version": "1.5.0",
          "state": {
            "_model_module": "@jupyter-widgets/controls",
            "_model_module_version": "1.5.0",
            "_model_name": "DescriptionStyleModel",
            "_view_count": null,
            "_view_module": "@jupyter-widgets/base",
            "_view_module_version": "1.2.0",
            "_view_name": "StyleView",
            "description_width": ""
          }
        },
        "a0d15c05a3c347f19801a588867c745a": {
          "model_module": "@jupyter-widgets/base",
          "model_name": "LayoutModel",
          "model_module_version": "1.2.0",
          "state": {
            "_model_module": "@jupyter-widgets/base",
            "_model_module_version": "1.2.0",
            "_model_name": "LayoutModel",
            "_view_count": null,
            "_view_module": "@jupyter-widgets/base",
            "_view_module_version": "1.2.0",
            "_view_name": "LayoutView",
            "align_content": null,
            "align_items": null,
            "align_self": null,
            "border": null,
            "bottom": null,
            "display": null,
            "flex": null,
            "flex_flow": null,
            "grid_area": null,
            "grid_auto_columns": null,
            "grid_auto_flow": null,
            "grid_auto_rows": null,
            "grid_column": null,
            "grid_gap": null,
            "grid_row": null,
            "grid_template_areas": null,
            "grid_template_columns": null,
            "grid_template_rows": null,
            "height": null,
            "justify_content": null,
            "justify_items": null,
            "left": null,
            "margin": null,
            "max_height": null,
            "max_width": null,
            "min_height": null,
            "min_width": null,
            "object_fit": null,
            "object_position": null,
            "order": null,
            "overflow": null,
            "overflow_x": null,
            "overflow_y": null,
            "padding": null,
            "right": null,
            "top": null,
            "visibility": null,
            "width": null
          }
        },
        "e7ffba78e70d4de4ab7a30a8d45ff09a": {
          "model_module": "@jupyter-widgets/controls",
          "model_name": "ProgressStyleModel",
          "model_module_version": "1.5.0",
          "state": {
            "_model_module": "@jupyter-widgets/controls",
            "_model_module_version": "1.5.0",
            "_model_name": "ProgressStyleModel",
            "_view_count": null,
            "_view_module": "@jupyter-widgets/base",
            "_view_module_version": "1.2.0",
            "_view_name": "StyleView",
            "bar_color": null,
            "description_width": ""
          }
        },
        "06fc6b38e30345a286e31983642f68e2": {
          "model_module": "@jupyter-widgets/base",
          "model_name": "LayoutModel",
          "model_module_version": "1.2.0",
          "state": {
            "_model_module": "@jupyter-widgets/base",
            "_model_module_version": "1.2.0",
            "_model_name": "LayoutModel",
            "_view_count": null,
            "_view_module": "@jupyter-widgets/base",
            "_view_module_version": "1.2.0",
            "_view_name": "LayoutView",
            "align_content": null,
            "align_items": null,
            "align_self": null,
            "border": null,
            "bottom": null,
            "display": null,
            "flex": null,
            "flex_flow": null,
            "grid_area": null,
            "grid_auto_columns": null,
            "grid_auto_flow": null,
            "grid_auto_rows": null,
            "grid_column": null,
            "grid_gap": null,
            "grid_row": null,
            "grid_template_areas": null,
            "grid_template_columns": null,
            "grid_template_rows": null,
            "height": null,
            "justify_content": null,
            "justify_items": null,
            "left": null,
            "margin": null,
            "max_height": null,
            "max_width": null,
            "min_height": null,
            "min_width": null,
            "object_fit": null,
            "object_position": null,
            "order": null,
            "overflow": null,
            "overflow_x": null,
            "overflow_y": null,
            "padding": null,
            "right": null,
            "top": null,
            "visibility": null,
            "width": null
          }
        },
        "49a06e8c14954c379fe11251e93b44e4": {
          "model_module": "@jupyter-widgets/controls",
          "model_name": "DescriptionStyleModel",
          "model_module_version": "1.5.0",
          "state": {
            "_model_module": "@jupyter-widgets/controls",
            "_model_module_version": "1.5.0",
            "_model_name": "DescriptionStyleModel",
            "_view_count": null,
            "_view_module": "@jupyter-widgets/base",
            "_view_module_version": "1.2.0",
            "_view_name": "StyleView",
            "description_width": ""
          }
        }
      }
    }
  },
  "cells": [
    {
      "cell_type": "markdown",
      "metadata": {
        "id": "view-in-github",
        "colab_type": "text"
      },
      "source": [
        "<a href=\"https://colab.research.google.com/github/aorbani/ats/blob/main/Fine_Tune_XLS_R_on_Common_Voice.ipynb\" target=\"_parent\"><img src=\"https://colab.research.google.com/assets/colab-badge.svg\" alt=\"Open In Colab\"/></a>"
      ]
    },
    {
      "cell_type": "markdown",
      "metadata": {
        "id": "LBSYoWbi-45k"
      },
      "source": [
        "# **Fine-tuning XLS-R for Multi-Lingual ASR with 🤗 Transformers**\n",
        "\n",
        "***New (11/2021)***: *This blog post has been updated to feature XLSR's successor, called [XLS-R](https://huggingface.co/models?other=xls_r)*."
      ]
    },
    {
      "cell_type": "markdown",
      "metadata": {
        "id": "V7YOT2mnUiea"
      },
      "source": [
        "**Wav2Vec2** is a pretrained model for Automatic Speech Recognition (ASR) and was released in [September 2020](https://ai.facebook.com/blog/wav2vec-20-learning-the-structure-of-speech-from-raw-audio/) by *Alexei Baevski, Michael Auli, and Alex Conneau*.  Soon after the superior performance of Wav2Vec2 was demonstrated on one of the most popular English datasets for ASR, called [LibriSpeech](https://huggingface.co/datasets/librispeech_asr), *Facebook AI* presented a multi-lingual version of Wav2Vec2, called [XLSR](https://arxiv.org/abs/2006.13979). XLSR stands for *cross-lingual speech representations* and refers to model's ability to learn speech representations that are useful across multiple languages.\n",
        "\n",
        "XLSR's successor, simply called **XLS-R** (refering to the [*''XLM-R*](https://ai.facebook.com/blog/-xlm-r-state-of-the-art-cross-lingual-understanding-through-self-supervision/) *for Speech''*), was released in [November 2021](https://ai.facebook.com/blog/xls-r-self-supervised-speech-processing-for-128-languages) by *Arun Babu, Changhan Wang, Andros Tjandra, et al.* XLS-R used almost **half a million** hours of audio data in 128 languages for self-supervised pre-training and comes in sizes ranging from 300 milion up to **two billion** parameters. You can find the pretrained checkpoints on the 🤗 Hub:\n",
        "\n",
        "- [**Wav2Vec2-XLS-R-300M**](https://huggingface.co/facebook/wav2vec2-xls-r-300m)\n",
        "- [**Wav2Vec2-XLS-R-1B**](https://huggingface.co/facebook/wav2vec2-xls-r-1b)\n",
        "- [**Wav2Vec2-XLS-R-2B**](https://huggingface.co/facebook/wav2vec2-xls-r-2b)\n",
        "\n",
        "Similar to [BERT's masked language modeling objective](http://jalammar.github.io/illustrated-bert/), XLS-R learns contextualized speech representations by randomly masking feature vectors before passing them to a transformer network during self-supervised pre-training (*i.e.* diagram on the left below).\n",
        "\n",
        "For fine-tuning, a single linear layer is added on top of the pre-trained network to train the model on labeled data of audio downstream tasks such as speech recognition, speech translation and audio classification (*i.e.* diagram on the right below).\n",
        "\n",
        "![wav2vec2_structure](https://raw.githubusercontent.com/patrickvonplaten/scientific_images/master/xls_r.png)\n",
        "\n",
        "XLS-R shows impressive improvements over previous state-of-the-art results on both speech recognition, speech translation and speaker/language identification, *cf.* with Table 3-6, Table 7-10, and Table 11-12 respectively of the official [paper](https://ai.facebook.com/blog/xls-r-self-supervised-speech-processing-for-128-languages)."
      ]
    },
    {
      "cell_type": "markdown",
      "metadata": {
        "id": "nT_QrfWtsxIz"
      },
      "source": [
        "## Notebook Setup"
      ]
    },
    {
      "cell_type": "markdown",
      "metadata": {
        "id": "kruqixOYHaIo"
      },
      "source": [
        "\n",
        "In this notebook, we will give an in-detail explanation of how XLS-R - more specifically the pre-trained checkpoint [**Wav2Vec2-XLS-R-300M**](https://huggingface.co/facebook/wav2vec2-xls-r-300m) - can be fine-tuned for ASR.  \n",
        "\n",
        "For demonstration purposes, we fine-tune the model on the low resource ASR dataset of [Common Voice](https://huggingface.co/datasets/common_voice) that contains only *ca.* 4h of validated training data."
      ]
    },
    {
      "cell_type": "markdown",
      "metadata": {
        "id": "Gx9OdDYrCtQ1"
      },
      "source": [
        "XLS-R is fine-tuned using Connectionist Temporal Classification (CTC), which is an algorithm that is used to train neural networks for sequence-to-sequence problems, such as ASR and handwriting recognition.\n",
        "\n",
        "I highly recommend reading the well-written blog post [*Sequence Modeling with CTC (2017)*](https://distill.pub/2017/ctc/) by Awni Hannun."
      ]
    },
    {
      "cell_type": "markdown",
      "metadata": {
        "id": "wcHuXIaWyHZU"
      },
      "source": [
        "First, let's try to get a good GPU in our colab! With Google Colab's free version it's sadly becoming much harder to get access to a good GPU. With Google Colab Pro, however, one should easily get either a V100 or P100 GPU."
      ]
    },
    {
      "cell_type": "code",
      "metadata": {
        "colab": {
          "base_uri": "https://localhost:8080/"
        },
        "id": "YELVqGxMxnbG",
        "outputId": "33321d21-7223-4e76-f09d-12517ba302df"
      },
      "source": [
        "gpu_info = !nvidia-smi\n",
        "gpu_info = '\\n'.join(gpu_info)\n",
        "if gpu_info.find('failed') >= 0:\n",
        "  print('Not connected to a GPU')\n",
        "else:\n",
        "  print(gpu_info)"
      ],
      "execution_count": 59,
      "outputs": [
        {
          "output_type": "stream",
          "name": "stdout",
          "text": [
            "Tue Nov 26 09:21:05 2024       \n",
            "+---------------------------------------------------------------------------------------+\n",
            "| NVIDIA-SMI 535.104.05             Driver Version: 535.104.05   CUDA Version: 12.2     |\n",
            "|-----------------------------------------+----------------------+----------------------+\n",
            "| GPU  Name                 Persistence-M | Bus-Id        Disp.A | Volatile Uncorr. ECC |\n",
            "| Fan  Temp   Perf          Pwr:Usage/Cap |         Memory-Usage | GPU-Util  Compute M. |\n",
            "|                                         |                      |               MIG M. |\n",
            "|=========================================+======================+======================|\n",
            "|   0  Tesla T4                       Off | 00000000:00:04.0 Off |                    0 |\n",
            "| N/A   67C    P0              30W /  70W |   1309MiB / 15360MiB |      0%      Default |\n",
            "|                                         |                      |                  N/A |\n",
            "+-----------------------------------------+----------------------+----------------------+\n",
            "                                                                                         \n",
            "+---------------------------------------------------------------------------------------+\n",
            "| Processes:                                                                            |\n",
            "|  GPU   GI   CI        PID   Type   Process name                            GPU Memory |\n",
            "|        ID   ID                                                             Usage      |\n",
            "|=======================================================================================|\n",
            "+---------------------------------------------------------------------------------------+\n"
          ]
        }
      ]
    },
    {
      "cell_type": "markdown",
      "metadata": {
        "id": "e335hPmdtASZ"
      },
      "source": [
        "Before we start, let's install `datasets` and `transformers`. Also, we need the `torchaudio` to load audio files and `jiwer` to evaluate our fine-tuned model using the [word error rate (WER)](https://huggingface.co/metrics/wer) metric ${}^1$."
      ]
    },
    {
      "cell_type": "code",
      "metadata": {
        "id": "c8eh87Hoee5d"
      },
      "source": [
        "%%capture\n",
        "!pip install transformers==4.11.3\n",
        "!pip install torchaudio==0.10.0+cu113 -f https://download.pytorch.org/whl/cu113/torch_stable.html\n",
        "!pip install jiwer"
      ],
      "execution_count": 60,
      "outputs": []
    },
    {
      "cell_type": "code",
      "source": [
        "!pip install --upgrade datasets"
      ],
      "metadata": {
        "colab": {
          "base_uri": "https://localhost:8080/"
        },
        "id": "LRzUN55JjUjg",
        "outputId": "fb3fc7e4-f46f-4251-ba32-ab00e57d92ab"
      },
      "execution_count": 61,
      "outputs": [
        {
          "output_type": "stream",
          "name": "stdout",
          "text": [
            "Requirement already satisfied: datasets in /usr/local/lib/python3.10/dist-packages (3.1.0)\n",
            "Requirement already satisfied: filelock in /usr/local/lib/python3.10/dist-packages (from datasets) (3.16.1)\n",
            "Requirement already satisfied: numpy>=1.17 in /usr/local/lib/python3.10/dist-packages (from datasets) (1.26.4)\n",
            "Requirement already satisfied: pyarrow>=15.0.0 in /usr/local/lib/python3.10/dist-packages (from datasets) (17.0.0)\n",
            "Requirement already satisfied: dill<0.3.9,>=0.3.0 in /usr/local/lib/python3.10/dist-packages (from datasets) (0.3.8)\n",
            "Requirement already satisfied: pandas in /usr/local/lib/python3.10/dist-packages (from datasets) (2.2.2)\n",
            "Requirement already satisfied: requests>=2.32.2 in /usr/local/lib/python3.10/dist-packages (from datasets) (2.32.3)\n",
            "Requirement already satisfied: tqdm>=4.66.3 in /usr/local/lib/python3.10/dist-packages (from datasets) (4.66.6)\n",
            "Requirement already satisfied: xxhash in /usr/local/lib/python3.10/dist-packages (from datasets) (3.5.0)\n",
            "Requirement already satisfied: multiprocess<0.70.17 in /usr/local/lib/python3.10/dist-packages (from datasets) (0.70.16)\n",
            "Requirement already satisfied: fsspec<=2024.9.0,>=2023.1.0 in /usr/local/lib/python3.10/dist-packages (from fsspec[http]<=2024.9.0,>=2023.1.0->datasets) (2024.9.0)\n",
            "Requirement already satisfied: aiohttp in /usr/local/lib/python3.10/dist-packages (from datasets) (3.11.2)\n",
            "Requirement already satisfied: huggingface-hub>=0.23.0 in /usr/local/lib/python3.10/dist-packages (from datasets) (0.26.2)\n",
            "Requirement already satisfied: packaging in /usr/local/lib/python3.10/dist-packages (from datasets) (24.2)\n",
            "Requirement already satisfied: pyyaml>=5.1 in /usr/local/lib/python3.10/dist-packages (from datasets) (6.0.2)\n",
            "Requirement already satisfied: aiohappyeyeballs>=2.3.0 in /usr/local/lib/python3.10/dist-packages (from aiohttp->datasets) (2.4.3)\n",
            "Requirement already satisfied: aiosignal>=1.1.2 in /usr/local/lib/python3.10/dist-packages (from aiohttp->datasets) (1.3.1)\n",
            "Requirement already satisfied: attrs>=17.3.0 in /usr/local/lib/python3.10/dist-packages (from aiohttp->datasets) (24.2.0)\n",
            "Requirement already satisfied: frozenlist>=1.1.1 in /usr/local/lib/python3.10/dist-packages (from aiohttp->datasets) (1.5.0)\n",
            "Requirement already satisfied: multidict<7.0,>=4.5 in /usr/local/lib/python3.10/dist-packages (from aiohttp->datasets) (6.1.0)\n",
            "Requirement already satisfied: propcache>=0.2.0 in /usr/local/lib/python3.10/dist-packages (from aiohttp->datasets) (0.2.0)\n",
            "Requirement already satisfied: yarl<2.0,>=1.17.0 in /usr/local/lib/python3.10/dist-packages (from aiohttp->datasets) (1.17.2)\n",
            "Requirement already satisfied: async-timeout<6.0,>=4.0 in /usr/local/lib/python3.10/dist-packages (from aiohttp->datasets) (4.0.3)\n",
            "Requirement already satisfied: typing-extensions>=3.7.4.3 in /usr/local/lib/python3.10/dist-packages (from huggingface-hub>=0.23.0->datasets) (4.12.2)\n",
            "Requirement already satisfied: charset-normalizer<4,>=2 in /usr/local/lib/python3.10/dist-packages (from requests>=2.32.2->datasets) (3.4.0)\n",
            "Requirement already satisfied: idna<4,>=2.5 in /usr/local/lib/python3.10/dist-packages (from requests>=2.32.2->datasets) (3.10)\n",
            "Requirement already satisfied: urllib3<3,>=1.21.1 in /usr/local/lib/python3.10/dist-packages (from requests>=2.32.2->datasets) (2.2.3)\n",
            "Requirement already satisfied: certifi>=2017.4.17 in /usr/local/lib/python3.10/dist-packages (from requests>=2.32.2->datasets) (2024.8.30)\n",
            "Requirement already satisfied: python-dateutil>=2.8.2 in /usr/local/lib/python3.10/dist-packages (from pandas->datasets) (2.8.2)\n",
            "Requirement already satisfied: pytz>=2020.1 in /usr/local/lib/python3.10/dist-packages (from pandas->datasets) (2024.2)\n",
            "Requirement already satisfied: tzdata>=2022.7 in /usr/local/lib/python3.10/dist-packages (from pandas->datasets) (2024.2)\n",
            "Requirement already satisfied: six>=1.5 in /usr/local/lib/python3.10/dist-packages (from python-dateutil>=2.8.2->pandas->datasets) (1.16.0)\n"
          ]
        }
      ]
    },
    {
      "cell_type": "markdown",
      "metadata": {
        "id": "0xxt_LwxDQlO"
      },
      "source": [
        "We strongly suggest to upload your training checkpoints directly to the [🤗 Hub](https://huggingface.co/) while training. The [🤗 Hub](https://huggingface.co/) has integrated version control so you can be sure that no model checkpoint is getting lost during training.\n",
        "\n",
        "To do so you have to store your authentication token from the Hugging Face website (sign up [here](https://huggingface.co/join) if you haven't already!)"
      ]
    },
    {
      "cell_type": "code",
      "metadata": {
        "colab": {
          "base_uri": "https://localhost:8080/",
          "height": 359,
          "referenced_widgets": [
            "6b166de8d8964b228a62a4bb6c3cc640",
            "bb3ee57c9df04c8689392763857e9398",
            "f1dc9422e16e48e4a6a66ff8c44de79c",
            "da0fa2523f8b4581b4c7bd8cc1631d3b",
            "6fb1e0aa41f14c269e1786145968aa78",
            "fea140986a0649b494bf74f916dd9efb",
            "91c68412e48c4e25a633e43fd6a1d0a0",
            "d9f2164de00645c38e59e79c6f17d75c",
            "2a7e05b2b7c0499eabe805869fb1e8b1",
            "b237afead7e045ac88727b994423bd51",
            "e2d230d978cb4100a9825cc1b34bbb71",
            "c7d6f70f3feb48f2aace273ee07336fa",
            "e340f3733f704cffb49ed0ad54453bc4",
            "424fce4e6b384ce5a61b557edc82077e",
            "8b86020193644bb2950fe4109c143e24",
            "c022be60341c4335a1d280369ceb0a43",
            "a0a317c60279491abb51773a5b35d884"
          ]
        },
        "id": "mlMSH3T3EazV",
        "outputId": "e8bbf94e-e75e-4471-8f9a-56fb3829d628"
      },
      "source": [
        "from huggingface_hub import notebook_login\n",
        "\n",
        "notebook_login()"
      ],
      "execution_count": 62,
      "outputs": [
        {
          "output_type": "display_data",
          "data": {
            "text/plain": [
              "VBox(children=(HTML(value='<center> <img\\nsrc=https://huggingface.co/front/assets/huggingface_logo-noborder.sv…"
            ],
            "application/vnd.jupyter.widget-view+json": {
              "version_major": 2,
              "version_minor": 0,
              "model_id": "6b166de8d8964b228a62a4bb6c3cc640"
            }
          },
          "metadata": {}
        }
      ]
    },
    {
      "cell_type": "markdown",
      "metadata": {
        "id": "ujdZ2TxhElk6"
      },
      "source": [
        "\n",
        "Then you need to install Git-LFS to upload your model checkpoints:"
      ]
    },
    {
      "cell_type": "code",
      "metadata": {
        "id": "WcR-d83OEkqb"
      },
      "source": [
        "%%capture\n",
        "!apt install git-lfs"
      ],
      "execution_count": 63,
      "outputs": []
    },
    {
      "cell_type": "markdown",
      "metadata": {
        "id": "Mn9swf6EQ9Vd"
      },
      "source": [
        "\n",
        "\n",
        "\n",
        "---\n",
        "\n",
        "${}^1$ In the [paper](https://arxiv.org/pdf/2006.13979.pdf), the model was evaluated using the phoneme error rate (PER), but by far the most common metric in ASR is the word error rate (WER). To keep this notebook as general as possible we decided to evaluate the model using WER."
      ]
    },
    {
      "cell_type": "markdown",
      "metadata": {
        "id": "0mW-C1Nt-j7k"
      },
      "source": [
        "## Prepare Data, Tokenizer, Feature Extractor"
      ]
    },
    {
      "cell_type": "markdown",
      "metadata": {
        "id": "BeBosnY9BH3e"
      },
      "source": [
        "ASR models transcribe speech to text, which means that we both need a feature extractor that processes the speech signal to the model's input format, *e.g.* a feature vector, and a tokenizer that processes the model's output format to text.\n",
        "\n",
        "In 🤗 Transformers, the XLS-R model is thus accompanied by both a tokenizer, called [Wav2Vec2CTCTokenizer](https://huggingface.co/transformers/master/model_doc/wav2vec2.html#wav2vec2ctctokenizer), and a feature extractor, called [Wav2Vec2FeatureExtractor](https://huggingface.co/transformers/master/model_doc/wav2vec2.html#wav2vec2featureextractor).\n",
        "\n",
        "Let's start by creating the tokenizer to decode the predicted output classes to the output transcription."
      ]
    },
    {
      "cell_type": "markdown",
      "metadata": {
        "id": "sEXEWEJGQPqD"
      },
      "source": [
        "### Create `Wav2Vec2CTCTokenizer`"
      ]
    },
    {
      "cell_type": "markdown",
      "metadata": {
        "id": "tWmMikuNEKl_"
      },
      "source": [
        "A pre-trained XLS-R model maps the speech signal to a sequence of context representations as illustrated in the figure above. However, for speech recognition the model has to to map this sequence of context representations to its corresponding transcription which means that a linear layer has to be added on top of the transformer block (shown in yellow in the diagram above). This linear layer is used to classifies each context representation to a token class analogous how, *e.g.*, after pretraining a linear layer is added on top of BERT's embeddings for further classification - *cf.* with *'BERT'* section of this [blog post](https://huggingface.co/blog/warm-starting-encoder-decoder)."
      ]
    },
    {
      "cell_type": "markdown",
      "metadata": {
        "id": "v5oRE8XjIUH3"
      },
      "source": [
        "The output size of this layer corresponds to the number of tokens in the vocabulary, which does **not** depend onXLS-R's pretraining task, but only on the labeled dataset used for fine-tuning. So in the first step, we will take a look at the chosen dataset of Common Voice and define a vocabulary based on the transcriptions."
      ]
    },
    {
      "cell_type": "markdown",
      "metadata": {
        "id": "idBczw8mWzgt"
      },
      "source": [
        "First, let's go to Common Voice [official website](https://commonvoice.mozilla.org/en/datasets) and pick a language to fine-tune XLS-R on. For this notebook, we will use Turkish.\n",
        "\n",
        "For each language-specific dataset, you can find a language code corresponding to your chosen language. On [Common Voice](https://commonvoice.mozilla.org/en/datasets), look for the field \"Version\". The language code then corresponds to the prefix before the underscore. For Turkish, *e.g.* the language code is `\"tr\"`.\n",
        "\n",
        "Great, now we can use 🤗 Datasets' simple API to download the data. The dataset name is `\"common_voice\"`, the configuration name corresponds to the language code, which is `\"tr\"` in our case."
      ]
    },
    {
      "cell_type": "markdown",
      "metadata": {
        "id": "bee4g9rpLxll"
      },
      "source": [
        "Common Voice has many different splits including `invalidated`, which refers to data that was not rated as \"clean enough\" to be considered useful. In this notebook, we will only make use of the splits `\"train\"`, `\"validation\"` and `\"test\"`.\n",
        "\n",
        "Because the Turkish dataset is so small, we will merge both the validation and training data into a training dataset and only use the test data for validation."
      ]
    },
    {
      "cell_type": "code",
      "metadata": {
        "id": "2MMXcWFFgCXU"
      },
      "source": [
        "from datasets import load_dataset, Audio\n",
        "\n",
        "common_voice_train = load_dataset(\"mozilla-foundation/common_voice_16_1\", \"ar\", split=\"train+validation\")\n",
        "common_voice_test = load_dataset(\"mozilla-foundation/common_voice_16_1\", \"ar\", split=\"test\")"
      ],
      "execution_count": 64,
      "outputs": []
    },
    {
      "cell_type": "markdown",
      "metadata": {
        "id": "ri5y5N_HMANq"
      },
      "source": [
        "Many ASR datasets only provide the target text, `'sentence'` for each audio array `'audio'` and file `'path'`. Common Voice actually provides much more information about each audio file, such as the `'accent'`, etc. Keeping the notebook as general as possible, we only consider the transcribed text for fine-tuning.\n",
        "\n"
      ]
    },
    {
      "cell_type": "code",
      "metadata": {
        "id": "kbyq6lDgQc2a"
      },
      "source": [
        "pros_common_voice_train = common_voice_train.remove_columns([\"accent\", \"age\", \"client_id\", \"down_votes\", \"gender\", \"locale\", \"segment\", \"up_votes\"])\n",
        "pros_common_voice_test = common_voice_test.remove_columns([\"accent\", \"age\", \"client_id\", \"down_votes\", \"gender\", \"locale\", \"segment\", \"up_votes\"])"
      ],
      "execution_count": 65,
      "outputs": []
    },
    {
      "cell_type": "markdown",
      "metadata": {
        "id": "Go9Hq4e4NDT9"
      },
      "source": [
        "Let's write a short function to display some random samples of the dataset and run it a couple of times to get a feeling for the transcriptions."
      ]
    },
    {
      "cell_type": "code",
      "metadata": {
        "id": "72737oog2F6U"
      },
      "source": [
        "from datasets import ClassLabel\n",
        "import random\n",
        "import pandas as pd\n",
        "from IPython.display import display, HTML\n",
        "\n",
        "def show_random_elements(dataset, num_examples=10):\n",
        "    assert num_examples <= len(dataset), \"Can't pick more elements than there are in the dataset.\"\n",
        "    picks = []\n",
        "    for _ in range(num_examples):\n",
        "        pick = random.randint(0, len(dataset)-1)\n",
        "        while pick in picks:\n",
        "            pick = random.randint(0, len(dataset)-1)\n",
        "        picks.append(pick)\n",
        "\n",
        "    df = pd.DataFrame(dataset[picks])\n",
        "    display(HTML(df.to_html()))"
      ],
      "execution_count": 66,
      "outputs": []
    },
    {
      "cell_type": "code",
      "metadata": {
        "colab": {
          "base_uri": "https://localhost:8080/",
          "height": 363
        },
        "id": "K_JUmf3G3b9S",
        "outputId": "6bcdb449-1816-4886-d5f7-bf2988cfaca0"
      },
      "source": [
        "show_random_elements(pros_common_voice_train.remove_columns([\"path\", \"audio\"]), num_examples=10)"
      ],
      "execution_count": 67,
      "outputs": [
        {
          "output_type": "display_data",
          "data": {
            "text/plain": [
              "<IPython.core.display.HTML object>"
            ],
            "text/html": [
              "<table border=\"1\" class=\"dataframe\">\n",
              "  <thead>\n",
              "    <tr style=\"text-align: right;\">\n",
              "      <th></th>\n",
              "      <th>sentence</th>\n",
              "      <th>variant</th>\n",
              "    </tr>\n",
              "  </thead>\n",
              "  <tbody>\n",
              "    <tr>\n",
              "      <th>0</th>\n",
              "      <td>مررنا بقرية صغيرة في طريقنا إلى الريف.</td>\n",
              "      <td></td>\n",
              "    </tr>\n",
              "    <tr>\n",
              "      <th>1</th>\n",
              "      <td>بدأت الصحيفة تفقد قراءها بعد تفريطها بأحد أشهر كتابها.</td>\n",
              "      <td></td>\n",
              "    </tr>\n",
              "    <tr>\n",
              "      <th>2</th>\n",
              "      <td>كَمْ عَطَاؤُك ؟ قَالَ</td>\n",
              "      <td></td>\n",
              "    </tr>\n",
              "    <tr>\n",
              "      <th>3</th>\n",
              "      <td>مرحباً, هل تناولتم الطعام ؟</td>\n",
              "      <td></td>\n",
              "    </tr>\n",
              "    <tr>\n",
              "      <th>4</th>\n",
              "      <td>أَحَدُهُمَا فِي السَّائِلِ</td>\n",
              "      <td></td>\n",
              "    </tr>\n",
              "    <tr>\n",
              "      <th>5</th>\n",
              "      <td>قال رب اشرح لي صدري</td>\n",
              "      <td></td>\n",
              "    </tr>\n",
              "    <tr>\n",
              "      <th>6</th>\n",
              "      <td>إِلَّا الَّذينَ آمَنوا وَعَمِلُوا الصّالِحاتِ فَلَهُم أَجرٌ غَيرُ مَمنونٍ</td>\n",
              "      <td></td>\n",
              "    </tr>\n",
              "    <tr>\n",
              "      <th>7</th>\n",
              "      <td>.الشوكة الصغيرة للسلطة والكبيرة للوجبة الرئيسية</td>\n",
              "      <td></td>\n",
              "    </tr>\n",
              "    <tr>\n",
              "      <th>8</th>\n",
              "      <td>وما أعجلك عن قومك يا موسى</td>\n",
              "      <td></td>\n",
              "    </tr>\n",
              "    <tr>\n",
              "      <th>9</th>\n",
              "      <td>متى تخلد إلى النوم عادةً ؟</td>\n",
              "      <td></td>\n",
              "    </tr>\n",
              "  </tbody>\n",
              "</table>"
            ]
          },
          "metadata": {}
        }
      ]
    },
    {
      "cell_type": "markdown",
      "metadata": {
        "id": "fowcOllGNNju"
      },
      "source": [
        "Alright! The transcriptions look fairly clean. Having translated the transcribed sentences, it seems that the language corresponds more to written-out text than noisy dialogue. This makes sense considering that [Common Voice](https://huggingface.co/datasets/common_voice) is a crowd-sourced read speech corpus."
      ]
    },
    {
      "cell_type": "markdown",
      "metadata": {
        "id": "vq7OR50LN49m"
      },
      "source": [
        "We can see that the transcriptions contain some special characters, such as `,.?!;:`. Without a language model, it is much harder to classify speech chunks to such special characters because they don't really correspond to a characteristic sound unit. *E.g.*, the letter `\"s\"` has a more or less clear sound, whereas the special character `\".\"` does not.\n",
        "Also in order to understand the meaning of a speech signal, it is usually not necessary to include special characters in the transcription.\n",
        "\n",
        "Let's simply remove all characters that don't contribute to the meaning of a word and cannot really be represented by an acoustic sound and normalize the text."
      ]
    },
    {
      "cell_type": "code",
      "metadata": {
        "id": "svKzVJ_hQGK6"
      },
      "source": [
        "import re\n",
        "chars_to_remove_regex = '[\\,\\?\\.\\!\\-\\;\\:\\\"\\“\\%\\‘\\”\\�\\'\\؟\\،\\«\\»\\)\\(\\_)\\☭\\؛]'\n",
        "\n",
        "def remove_special_characters(batch):\n",
        "    batch[\"sentence\"] = re.sub(chars_to_remove_regex, '', batch[\"sentence\"]).lower()\n",
        "    return batch"
      ],
      "execution_count": 68,
      "outputs": []
    },
    {
      "cell_type": "code",
      "metadata": {
        "colab": {
          "base_uri": "https://localhost:8080/",
          "height": 81,
          "referenced_widgets": [
            "837921497f87453ca70a35f2c63cb712",
            "e9701861f7644970a56f0d014a363b84",
            "691254195b2d4992b8390394ffb80979",
            "d18d58e6d57044308d3a281adc433c21",
            "42a3c8ed37c54235b05fa1f4f8163ba7",
            "32587ab6194c40938c017c0d140bdb68",
            "2af5c117d7fd4f46ab44926b5d7eb69d",
            "d74986950a30405687cc6f47c5897310",
            "806cb2970a5c4e3abda59342af957a30",
            "75164a957982473999ca43e05af0e420",
            "69ee111cdf60409d878984af3c84264f",
            "81eade237428497dbb80641414dc0a6f",
            "0dc17e37b0f947b89b3694a1b6acf515",
            "203eb1d0bc964f66a55f5a2e3e6dd941",
            "28d1a5aa2272492ca9b517ef9e333f03",
            "967f12c31bc54b5aaa83f8c181f049cb",
            "41cd4785dfd349e29b2162d3120aa486",
            "6a074e32cb454b4a8965933fa4ed7308",
            "5a33660a6ff547d6a408d9ff671f2ad6",
            "bd43a100baf04541b298c9d54a369fcb",
            "cb57cf86bf134d47859d28e3c6bd04cd",
            "d1835eaa9b834e4ea761804c679f4a33"
          ]
        },
        "id": "XIHocAuTQbBR",
        "outputId": "4e5016b2-fb82-4f32-e81a-0fe7bed7fcf6"
      },
      "source": [
        "pros_common_voice_train = pros_common_voice_train.map(remove_special_characters)\n",
        "pros_common_voice_test = pros_common_voice_test.map(remove_special_characters)"
      ],
      "execution_count": 69,
      "outputs": [
        {
          "output_type": "display_data",
          "data": {
            "text/plain": [
              "Map:   0%|          | 0/38805 [00:00<?, ? examples/s]"
            ],
            "application/vnd.jupyter.widget-view+json": {
              "version_major": 2,
              "version_minor": 0,
              "model_id": "837921497f87453ca70a35f2c63cb712"
            }
          },
          "metadata": {}
        },
        {
          "output_type": "display_data",
          "data": {
            "text/plain": [
              "Map:   0%|          | 0/10478 [00:00<?, ? examples/s]"
            ],
            "application/vnd.jupyter.widget-view+json": {
              "version_major": 2,
              "version_minor": 0,
              "model_id": "81eade237428497dbb80641414dc0a6f"
            }
          },
          "metadata": {}
        }
      ]
    },
    {
      "cell_type": "markdown",
      "metadata": {
        "id": "TxnVS9gIhIma"
      },
      "source": [
        "Let's look at the processed text labels again."
      ]
    },
    {
      "cell_type": "code",
      "metadata": {
        "colab": {
          "base_uri": "https://localhost:8080/",
          "height": 363
        },
        "id": "RBDRAAYxRE6n",
        "outputId": "66724d1e-c44e-4bb5-e8ca-5ef1ff41f8f7"
      },
      "source": [
        "show_random_elements(pros_common_voice_train.remove_columns([\"path\",\"audio\"]))"
      ],
      "execution_count": 70,
      "outputs": [
        {
          "output_type": "display_data",
          "data": {
            "text/plain": [
              "<IPython.core.display.HTML object>"
            ],
            "text/html": [
              "<table border=\"1\" class=\"dataframe\">\n",
              "  <thead>\n",
              "    <tr style=\"text-align: right;\">\n",
              "      <th></th>\n",
              "      <th>sentence</th>\n",
              "      <th>variant</th>\n",
              "    </tr>\n",
              "  </thead>\n",
              "  <tbody>\n",
              "    <tr>\n",
              "      <th>0</th>\n",
              "      <td>ثُمَّ الجَحيمَ صَلّوهُ</td>\n",
              "      <td></td>\n",
              "    </tr>\n",
              "    <tr>\n",
              "      <th>1</th>\n",
              "      <td>توم ليس اشتراكي</td>\n",
              "      <td></td>\n",
              "    </tr>\n",
              "    <tr>\n",
              "      <th>2</th>\n",
              "      <td>يُدْخِلُ مَنْ يَشَاءُ فِي رَحْمَتِهِ وَالظَّالِمِينَ أَعَدَّ لَهُمْ عَذَابًا أَلِيمًا</td>\n",
              "      <td></td>\n",
              "    </tr>\n",
              "    <tr>\n",
              "      <th>3</th>\n",
              "      <td>هذا يَومُ الفَصلِ الَّذي كُنتُم بِهِ تُكَذِّبونَ</td>\n",
              "      <td></td>\n",
              "    </tr>\n",
              "    <tr>\n",
              "      <th>4</th>\n",
              "      <td>اصبِر عَلى ما يَقولونَ وَاذكُر عَبدَنا داوودَ ذَا الأَيدِ إِنَّهُ أَوّابٌ</td>\n",
              "      <td></td>\n",
              "    </tr>\n",
              "    <tr>\n",
              "      <th>5</th>\n",
              "      <td>خَلَقَ الْخَلْقَ بِتَدْبِيرِهِ وَفَطَرَهُمْ بِتَقْدِيرِهِ</td>\n",
              "      <td></td>\n",
              "    </tr>\n",
              "    <tr>\n",
              "      <th>6</th>\n",
              "      <td>لغتي صعبة جدا</td>\n",
              "      <td></td>\n",
              "    </tr>\n",
              "    <tr>\n",
              "      <th>7</th>\n",
              "      <td>وأكثر من الإخوان ما اسطعت إنهم</td>\n",
              "      <td></td>\n",
              "    </tr>\n",
              "    <tr>\n",
              "      <th>8</th>\n",
              "      <td>ليس لنا علاقة</td>\n",
              "      <td></td>\n",
              "    </tr>\n",
              "    <tr>\n",
              "      <th>9</th>\n",
              "      <td>كان سامي الأوّل في صفّه</td>\n",
              "      <td></td>\n",
              "    </tr>\n",
              "  </tbody>\n",
              "</table>"
            ]
          },
          "metadata": {}
        }
      ]
    },
    {
      "cell_type": "markdown",
      "metadata": {
        "id": "jwfaptH5RJwA"
      },
      "source": [
        "Good! This looks better. We have removed most special characters from transcriptions and normalized them to lower-case only.\n",
        "\n",
        "Before finalizing the pre-processing, it is always advantageous to consult a native speaker of the target language to see whether the text can be further simplified.\n",
        "For this blog post, [Merve](https://twitter.com/mervenoyann) was kind enough to take a quick look and noted that \"hatted\" characters - like `â` - aren't really used anymore in Turkish and can be replaced by their \"un-hatted\" equivalent, *e.g.* `a`.\n",
        "\n",
        "This means that we should replace a sentence like `\"yargı sistemi hâlâ sağlıksız\"` to `\"yargı sistemi hala sağlıksız\"`.\n",
        "\n",
        "Let's write another short mapping function to further simplify the text labels. Remember - the simler the text labels, the easier it is for the model to learn to predict those labels.\n",
        "\n"
      ]
    },
    {
      "cell_type": "code",
      "metadata": {
        "id": "aZcrz6z7lgGm",
        "colab": {
          "base_uri": "https://localhost:8080/",
          "height": 72
        },
        "outputId": "c7be85eb-5ede-46d7-d789-d92ef20d9a9f"
      },
      "source": [
        "'''def replace_hatted_characters(batch):\n",
        "    batch[\"sentence\"] = re.sub('[â]', 'a', batch[\"sentence\"])\n",
        "    batch[\"sentence\"] = re.sub('[î]', 'i', batch[\"sentence\"])\n",
        "    batch[\"sentence\"] = re.sub('[ô]', 'o', batch[\"sentence\"])\n",
        "    batch[\"sentence\"] = re.sub('[û]', 'u', batch[\"sentence\"])\n",
        "    return batch'''"
      ],
      "execution_count": 71,
      "outputs": [
        {
          "output_type": "execute_result",
          "data": {
            "text/plain": [
              "'def replace_hatted_characters(batch):\\n    batch[\"sentence\"] = re.sub(\\'[â]\\', \\'a\\', batch[\"sentence\"])\\n    batch[\"sentence\"] = re.sub(\\'[î]\\', \\'i\\', batch[\"sentence\"])\\n    batch[\"sentence\"] = re.sub(\\'[ô]\\', \\'o\\', batch[\"sentence\"])\\n    batch[\"sentence\"] = re.sub(\\'[û]\\', \\'u\\', batch[\"sentence\"])\\n    return batch'"
            ],
            "application/vnd.google.colaboratory.intrinsic+json": {
              "type": "string"
            }
          },
          "metadata": {},
          "execution_count": 71
        }
      ]
    },
    {
      "cell_type": "code",
      "metadata": {
        "colab": {
          "base_uri": "https://localhost:8080/",
          "height": 54
        },
        "id": "ieGhhND5mSwI",
        "outputId": "269fc2df-0fc2-4d94-d121-7ad7ade5fba9"
      },
      "source": [
        "'''common_voice_train = common_voice_train.map(replace_hatted_characters)\n",
        "common_voice_test = common_voice_test.map(replace_hatted_characters)'''"
      ],
      "execution_count": 72,
      "outputs": [
        {
          "output_type": "execute_result",
          "data": {
            "text/plain": [
              "'common_voice_train = common_voice_train.map(replace_hatted_characters)\\ncommon_voice_test = common_voice_test.map(replace_hatted_characters)'"
            ],
            "application/vnd.google.colaboratory.intrinsic+json": {
              "type": "string"
            }
          },
          "metadata": {},
          "execution_count": 72
        }
      ]
    },
    {
      "cell_type": "markdown",
      "metadata": {
        "id": "3ORHDb2Th2TW"
      },
      "source": [
        "In CTC, it is common to classify speech chunks into letters, so we will do the same here.\n",
        "Let's extract all distinct letters of the training and test data and build our vocabulary from this set of letters.\n",
        "\n",
        "We write a mapping function that concatenates all transcriptions into one long transcription and then transforms the string into a set of chars.\n",
        "It is important to pass the argument `batched=True` to the `map(...)` function so that the mapping function has access to all transcriptions at once."
      ]
    },
    {
      "cell_type": "code",
      "metadata": {
        "id": "LwCshNbbeRZR"
      },
      "source": [
        "def extract_all_chars(batch):\n",
        "  all_text = \" \".join(batch[\"sentence\"])\n",
        "  vocab = list(set(all_text))\n",
        "  return {\"vocab\": [vocab], \"all_text\": [all_text]}"
      ],
      "execution_count": 73,
      "outputs": []
    },
    {
      "cell_type": "code",
      "metadata": {
        "colab": {
          "base_uri": "https://localhost:8080/",
          "height": 81,
          "referenced_widgets": [
            "13fd82f7c86d4aea9d5fc00e54a5a1f5",
            "f6099ca893114cc0b251931c5bb07c03",
            "b6c3bd4480e5400c863805de2758917e",
            "1bf1fbc282134dd1aa62e4c425d24481",
            "bb817b2e412b428893707130ac94c762",
            "b7eb898a1803400295fc646acdd34c0c",
            "c93ab253fd9c42beaeeac2011107f78a",
            "6f32463536d246d8908297705c405b3b",
            "2d6be5d482ba430cb009fee7c500992e",
            "eeec5605a9b445f0a3665c0d0773a01f",
            "a253b50cb14642beac07b10c2bf1b9d4",
            "5bb727efcc0f4e0f875adaee5e2c5aef",
            "4d927d86e32b4ec194eb10caf70a22eb",
            "8caec6794b72426dad40fe57fd90081f",
            "18b7226d632045929f8c83b37fe95312",
            "21536f5ab42e4d8cabcf768233b75d84",
            "0ce7510406d94bf7a7003ba938406154",
            "d55aef645d854a04a96fe6009d9aca5d",
            "eaefb4756b69434088d6694f455267a2",
            "d1c09586966b45e58328061998b0e14e",
            "5e02bc25c5de4ded857f4af7e41bfeaa",
            "499fbc2f494343e0ab31e66e7db493c2"
          ]
        },
        "id": "_m6uUjjcfbjH",
        "outputId": "2202e525-5c1f-4f9a-a763-014f649ad7c1"
      },
      "source": [
        "vocab_train = pros_common_voice_train.map(extract_all_chars, batched=True, batch_size=-1, keep_in_memory=True, remove_columns=pros_common_voice_train.column_names)\n",
        "vocab_test = pros_common_voice_test.map(extract_all_chars, batched=True, batch_size=-1, keep_in_memory=True, remove_columns=pros_common_voice_test.column_names)"
      ],
      "execution_count": 74,
      "outputs": [
        {
          "output_type": "display_data",
          "data": {
            "text/plain": [
              "Map:   0%|          | 0/38805 [00:00<?, ? examples/s]"
            ],
            "application/vnd.jupyter.widget-view+json": {
              "version_major": 2,
              "version_minor": 0,
              "model_id": "13fd82f7c86d4aea9d5fc00e54a5a1f5"
            }
          },
          "metadata": {}
        },
        {
          "output_type": "display_data",
          "data": {
            "text/plain": [
              "Map:   0%|          | 0/10478 [00:00<?, ? examples/s]"
            ],
            "application/vnd.jupyter.widget-view+json": {
              "version_major": 2,
              "version_minor": 0,
              "model_id": "5bb727efcc0f4e0f875adaee5e2c5aef"
            }
          },
          "metadata": {}
        }
      ]
    },
    {
      "cell_type": "markdown",
      "metadata": {
        "id": "7oVgE8RZSJNP"
      },
      "source": [
        "Now, we create the union of all distinct letters in the training dataset and test dataset and convert the resulting list into an enumerated dictionary."
      ]
    },
    {
      "cell_type": "code",
      "metadata": {
        "id": "aQfneNsmlJI0"
      },
      "source": [
        "vocab_list = list(set(vocab_train[\"vocab\"][0]) | set(vocab_test[\"vocab\"][0]))"
      ],
      "execution_count": 75,
      "outputs": []
    },
    {
      "cell_type": "code",
      "metadata": {
        "colab": {
          "base_uri": "https://localhost:8080/"
        },
        "id": "_0kRndSvqaKk",
        "outputId": "91d15be9-4f27-4713-b52f-d063a70bab9e"
      },
      "source": [
        "vocab_dict = {v: k for k, v in enumerate(sorted(vocab_list))}\n",
        "vocab_dict"
      ],
      "execution_count": 76,
      "outputs": [
        {
          "output_type": "execute_result",
          "data": {
            "text/plain": [
              "{' ': 0,\n",
              " 'a': 1,\n",
              " 'b': 2,\n",
              " 'c': 3,\n",
              " 'd': 4,\n",
              " 'e': 5,\n",
              " 'f': 6,\n",
              " 'g': 7,\n",
              " 'h': 8,\n",
              " 'i': 9,\n",
              " 'j': 10,\n",
              " 'k': 11,\n",
              " 'l': 12,\n",
              " 'm': 13,\n",
              " 'n': 14,\n",
              " 'o': 15,\n",
              " 'p': 16,\n",
              " 'q': 17,\n",
              " 'r': 18,\n",
              " 's': 19,\n",
              " 't': 20,\n",
              " 'u': 21,\n",
              " 'v': 22,\n",
              " 'w': 23,\n",
              " 'x': 24,\n",
              " 'y': 25,\n",
              " 'ء': 26,\n",
              " 'آ': 27,\n",
              " 'أ': 28,\n",
              " 'ؤ': 29,\n",
              " 'إ': 30,\n",
              " 'ئ': 31,\n",
              " 'ا': 32,\n",
              " 'ب': 33,\n",
              " 'ة': 34,\n",
              " 'ت': 35,\n",
              " 'ث': 36,\n",
              " 'ج': 37,\n",
              " 'ح': 38,\n",
              " 'خ': 39,\n",
              " 'د': 40,\n",
              " 'ذ': 41,\n",
              " 'ر': 42,\n",
              " 'ز': 43,\n",
              " 'س': 44,\n",
              " 'ش': 45,\n",
              " 'ص': 46,\n",
              " 'ض': 47,\n",
              " 'ط': 48,\n",
              " 'ظ': 49,\n",
              " 'ع': 50,\n",
              " 'غ': 51,\n",
              " 'ـ': 52,\n",
              " 'ف': 53,\n",
              " 'ق': 54,\n",
              " 'ك': 55,\n",
              " 'ل': 56,\n",
              " 'م': 57,\n",
              " 'ن': 58,\n",
              " 'ه': 59,\n",
              " 'و': 60,\n",
              " 'ى': 61,\n",
              " 'ي': 62,\n",
              " 'ً': 63,\n",
              " 'ٌ': 64,\n",
              " 'ٍ': 65,\n",
              " 'َ': 66,\n",
              " 'ُ': 67,\n",
              " 'ِ': 68,\n",
              " 'ّ': 69,\n",
              " 'ْ': 70,\n",
              " 'ٰ': 71,\n",
              " 'چ': 72,\n",
              " 'ڨ': 73,\n",
              " 'ک': 74,\n",
              " 'ھ': 75,\n",
              " 'ی': 76,\n",
              " 'ۖ': 77,\n",
              " 'ۗ': 78,\n",
              " 'ۘ': 79,\n",
              " 'ۚ': 80,\n",
              " 'ۛ': 81,\n",
              " '—': 82,\n",
              " '…': 83,\n",
              " 'ﺃ': 84,\n",
              " 'ﻻ': 85}"
            ]
          },
          "metadata": {},
          "execution_count": 76
        }
      ]
    },
    {
      "cell_type": "markdown",
      "metadata": {
        "id": "JOSzbvs9SXT1"
      },
      "source": [
        "Cool, we see that all letters of the alphabet occur in the dataset (which is not really surprising) and we also extracted the special characters `\"\"` and `'`. Note that we did not exclude those special characters because:\n",
        "\n",
        "The model has to learn to predict when a word is finished or else the model prediction would always be a sequence of chars which would make it impossible to separate words from each other.\n",
        "\n",
        "One should always keep in mind that pre-processing is a very important step before training your model. E.g., we don't want our model to differentiate between `a` and `A` just because we forgot to normalize the data. The difference between `a` and `A` does not depend on the \"sound\" of the letter at all, but more on grammatical rules - *e.g.* use a capitalized letter at the beginning of the sentence. So it is sensible to remove the difference between capitalized and non-capitalized letters so that the model has an easier time learning to transcribe speech."
      ]
    },
    {
      "cell_type": "markdown",
      "metadata": {
        "id": "b1fBRCn-TRaO"
      },
      "source": [
        "To make it clearer that `\" \"` has its own token class, we give it a more visible character `|`. In addition, we also add an \"unknown\" token so that the model can later deal with characters not encountered in Common Voice's training set."
      ]
    },
    {
      "cell_type": "code",
      "metadata": {
        "id": "npbIbBoLgaFX"
      },
      "source": [
        "vocab_dict[\"|\"] = vocab_dict[\" \"]\n",
        "del vocab_dict[\" \"]"
      ],
      "execution_count": 77,
      "outputs": []
    },
    {
      "cell_type": "markdown",
      "metadata": {
        "id": "_9yCWg4Sd0cb"
      },
      "source": [
        "Finally, we also add a padding token that corresponds to CTC's \"*blank token*\". The \"blank token\" is a core component of the CTC algorithm. For more information, please take a look at the \"Alignment\" section [here](https://distill.pub/2017/ctc/)."
      ]
    },
    {
      "cell_type": "code",
      "metadata": {
        "colab": {
          "base_uri": "https://localhost:8080/"
        },
        "id": "znF0bNunsjbl",
        "outputId": "971d0aab-57f4-4b9d-be45-f05c98cefe37"
      },
      "source": [
        "vocab_dict[\"[UNK]\"] = len(vocab_dict)\n",
        "vocab_dict[\"[PAD]\"] = len(vocab_dict)\n",
        "len(vocab_dict)"
      ],
      "execution_count": 78,
      "outputs": [
        {
          "output_type": "execute_result",
          "data": {
            "text/plain": [
              "88"
            ]
          },
          "metadata": {},
          "execution_count": 78
        }
      ]
    },
    {
      "cell_type": "markdown",
      "metadata": {
        "id": "SFPGfet8U5sL"
      },
      "source": [
        "Cool, now our vocabulary is complete and consists of 39 tokens, which means that the linear layer that we will add on top of the pretrained XLS-R checkpoint will have an output dimension of 39."
      ]
    },
    {
      "cell_type": "markdown",
      "metadata": {
        "id": "1CujRgBNVRaD"
      },
      "source": [
        "Let's now save the vocabulary as a json file."
      ]
    },
    {
      "cell_type": "code",
      "metadata": {
        "id": "ehyUoh9vk191"
      },
      "source": [
        "import json\n",
        "with open('vocab.json', 'w') as vocab_file:\n",
        "    json.dump(vocab_dict, vocab_file)"
      ],
      "execution_count": 79,
      "outputs": []
    },
    {
      "cell_type": "markdown",
      "metadata": {
        "id": "SHJDaKlIVVim"
      },
      "source": [
        "In a final step, we use the json file to load the vocabulary into an instance of the `Wav2Vec2CTCTokenizer` class."
      ]
    },
    {
      "cell_type": "code",
      "metadata": {
        "id": "xriFGEWQkO4M"
      },
      "source": [
        "from transformers import Wav2Vec2CTCTokenizer\n",
        "\n",
        "tokenizer = Wav2Vec2CTCTokenizer.from_pretrained(\"./\", unk_token=\"[UNK]\", pad_token=\"[PAD]\", word_delimiter_token=\"|\")"
      ],
      "execution_count": 80,
      "outputs": []
    },
    {
      "cell_type": "markdown",
      "metadata": {
        "id": "KvL12DrNV4cx"
      },
      "source": [
        "If one wants to re-use the just created tokenizer with the fine-tuned model of this notebook, it is strongly advised to upload the `tokenizer` to the [🤗 Hub](https://huggingface.co/). Let's call the repo to which we will upload the files\n",
        "`\"wav2vec2-large-xlsr-turkish-demo-colab\"`:"
      ]
    },
    {
      "cell_type": "markdown",
      "source": [],
      "metadata": {
        "id": "WGEMFIm3m5v1"
      }
    },
    {
      "cell_type": "code",
      "metadata": {
        "id": "A1XApZBAF2zr"
      },
      "source": [
        "repo_name = \"wav2vec2-large-xls-r-300m-arabic-colab\""
      ],
      "execution_count": 81,
      "outputs": []
    },
    {
      "cell_type": "markdown",
      "metadata": {
        "id": "B1BiezWZF16d"
      },
      "source": [
        "and upload the tokenizer to the [🤗 Hub](https://huggingface.co/)."
      ]
    },
    {
      "cell_type": "code",
      "metadata": {
        "colab": {
          "base_uri": "https://localhost:8080/",
          "height": 140,
          "referenced_widgets": [
            "b7729520d5d349a294e5d215436cdf8f",
            "6d5761062694488699a95274221140de",
            "7cc32504e9cc4c68b76e05db12115c28",
            "4ffb437939ab4ddd96a5ec4f6cf246f7",
            "33ece20bf83d49d4814bdd8969634f91",
            "c041ed94ff104f22b4a31b792ef76a33",
            "971ed8c8fd234b6ebbd37e44e54f7493",
            "d0aad6f2b63b43488361ef26b13b1de3",
            "2114368055ee4d6a9636da6dc181a1fb",
            "c6e7a6c936bf4e1d96a848969cef77b2",
            "df8e3169ce5e4f5fa728884a6a1a0a3a"
          ]
        },
        "id": "zytE1175GAKM",
        "outputId": "77c99dba-9a90-4b7d-9903-f33ac41f651b"
      },
      "source": [
        "tokenizer.push_to_hub(repo_name)"
      ],
      "execution_count": 82,
      "outputs": [
        {
          "output_type": "display_data",
          "data": {
            "text/plain": [
              "README.md:   0%|          | 0.00/5.17k [00:00<?, ?B/s]"
            ],
            "application/vnd.jupyter.widget-view+json": {
              "version_major": 2,
              "version_minor": 0,
              "model_id": "b7729520d5d349a294e5d215436cdf8f"
            }
          },
          "metadata": {}
        },
        {
          "output_type": "execute_result",
          "data": {
            "text/plain": [
              "CommitInfo(commit_url='https://huggingface.co/aorbani/wav2vec2-large-xls-r-300m-arabic-colab/commit/536a9ffaa21710169f9c7fa09212d008659a4fa1', commit_message='Upload tokenizer', commit_description='', oid='536a9ffaa21710169f9c7fa09212d008659a4fa1', pr_url=None, repo_url=RepoUrl('https://huggingface.co/aorbani/wav2vec2-large-xls-r-300m-arabic-colab', endpoint='https://huggingface.co', repo_type='model', repo_id='aorbani/wav2vec2-large-xls-r-300m-arabic-colab'), pr_revision=None, pr_num=None)"
            ],
            "application/vnd.google.colaboratory.intrinsic+json": {
              "type": "string"
            }
          },
          "metadata": {},
          "execution_count": 82
        }
      ]
    },
    {
      "cell_type": "markdown",
      "metadata": {
        "id": "SwQM8lH_GGuP"
      },
      "source": [
        "Great, you can see the just created repository under `https://huggingface.co/<your-username>/wav2vec2-large-xls-r-300m-tr-colab`"
      ]
    },
    {
      "cell_type": "markdown",
      "metadata": {
        "id": "mYcIiR2FQ96i"
      },
      "source": [
        "### Create `Wav2Vec2FeatureExtractor`"
      ]
    },
    {
      "cell_type": "markdown",
      "metadata": {
        "id": "Y6mDEyW719rx"
      },
      "source": [
        "Speech is a continuous signal and to be treated by computers, it first has to be discretized, which is usually called **sampling**. The sampling rate hereby plays an important role in that it defines how many data points of the speech signal are measured per second. Therefore, sampling with a higher sampling rate results in a better approximation of the *real* speech signal but also necessitates more values per second.\n",
        "\n",
        "A pretrained checkpoint expects its input data to have been sampled more or less from the same distribution as the data it was trained on. The same speech signals sampled at two different rates have a very different distribution, *e.g.*, doubling the sampling rate results in data points being twice as long. Thus,\n",
        "before fine-tuning a pretrained checkpoint of an ASR model, it is crucial to verify that the sampling rate of the data that was used to pretrain the model matches the sampling rate of the dataset used to fine-tune the model.\n",
        "\n",
        "XLS-R was pretrained on audio data of [Babel](http://www.reading.ac.uk/AcaDepts/ll/speechlab/babel/r),\n",
        "[Multilingual LibriSpeech (MLS)](https://huggingface.co/datasets/multilingual_librispeech), [Common Voice](https://huggingface.co/datasets/common_voice), [VoxPopuli](https://arxiv.org/abs/2101.00390), and [VoxLingua107](https://arxiv.org/abs/2011.12998) at a sampling rate of 16kHz. Common Voice, in its original form, has a sampling rate of 48kHz, thus we will have to downsample the fine-tuning data to 16kHz in the following.\n",
        "\n"
      ]
    },
    {
      "cell_type": "markdown",
      "metadata": {
        "id": "KuUbPW7oV-B5"
      },
      "source": [
        "A `Wav2Vec2FeatureExtractor` object requires the following parameters to be instantiated:\n",
        "\n",
        "- `feature_size`: Speech models take a sequence of feature vectors as an input. While the length of this sequence obviously varies, the feature size should not. In the case of Wav2Vec2, the feature size is 1 because the model was trained on the raw speech signal ${}^2$.\n",
        "- `sampling_rate`: The sampling rate at which the model is trained on.\n",
        "- `padding_value`: For batched inference, shorter inputs need to be padded with a specific value\n",
        "- `do_normalize`: Whether the input should be *zero-mean-unit-variance* normalized or not. Usually, speech models perform better when normalizing the input\n",
        "- `return_attention_mask`: Whether the model should make use of an `attention_mask` for batched inference. In general, XLS-R models checkpoints should **always** use the `attention_mask`."
      ]
    },
    {
      "cell_type": "code",
      "metadata": {
        "id": "kAR0-2KLkopp"
      },
      "source": [
        "from transformers import Wav2Vec2FeatureExtractor\n",
        "\n",
        "feature_extractor = Wav2Vec2FeatureExtractor(feature_size=1, sampling_rate=16000, padding_value=0.0, do_normalize=True, return_attention_mask=True)"
      ],
      "execution_count": 83,
      "outputs": []
    },
    {
      "cell_type": "markdown",
      "metadata": {
        "id": "qUETetgqYC3W"
      },
      "source": [
        "Great, XLS-R's feature extraction pipeline is thereby fully defined!\n",
        "\n",
        "For improved user-friendliness, the feature extractor and tokenizer are *wrapped* into a single `Wav2Vec2Processor` class so that one only needs a `model` and `processor` object."
      ]
    },
    {
      "cell_type": "code",
      "metadata": {
        "id": "KYZtoW-tlZgl"
      },
      "source": [
        "from transformers import Wav2Vec2Processor\n",
        "\n",
        "processor = Wav2Vec2Processor(feature_extractor=feature_extractor, tokenizer=tokenizer)"
      ],
      "execution_count": 84,
      "outputs": []
    },
    {
      "cell_type": "markdown",
      "metadata": {
        "id": "DrKnYuvDIoOO"
      },
      "source": [
        "Next, we can prepare the dataset."
      ]
    },
    {
      "cell_type": "markdown",
      "metadata": {
        "id": "YFmShnl7RE35"
      },
      "source": [
        "### Preprocess Data\n",
        "\n",
        "So far, we have not looked at the actual values of the speech signal but just the transcription. In addition to `sentence`, our datasets include two more column names `path` and `audio`. `path` states the absolute path of the audio file. Let's take a look.\n"
      ]
    },
    {
      "cell_type": "code",
      "metadata": {
        "colab": {
          "base_uri": "https://localhost:8080/",
          "height": 54
        },
        "id": "TTCS7W6XJ9BG",
        "outputId": "e991a510-858f-4402-e1ea-85ccf67ea393"
      },
      "source": [
        "pros_common_voice_train[0][\"path\"]"
      ],
      "execution_count": 85,
      "outputs": [
        {
          "output_type": "execute_result",
          "data": {
            "text/plain": [
              "'/root/.cache/huggingface/datasets/downloads/extracted/fa0b56b610c1570c6d0fe52523f25432c19dfe52a57f82501a18203527cc0af2/ar_train_0/common_voice_ar_24032301.mp3'"
            ],
            "application/vnd.google.colaboratory.intrinsic+json": {
              "type": "string"
            }
          },
          "metadata": {},
          "execution_count": 85
        }
      ]
    },
    {
      "cell_type": "markdown",
      "metadata": {
        "id": "T6ndIjHGFp0W"
      },
      "source": [
        "XLS-R expects the input in the format of a 1-dimensional array of 16 kHz. This means that the audio file has to be loaded and resampled.\n",
        "\n",
        " Thankfully, `datasets` does this automatically by calling the other column `audio`. Let try it out."
      ]
    },
    {
      "cell_type": "code",
      "metadata": {
        "colab": {
          "base_uri": "https://localhost:8080/"
        },
        "id": "qj_z5Zc3GAs9",
        "outputId": "7a93caba-258d-4d0b-b66c-8825ef35427d"
      },
      "source": [
        "pros_common_voice_train[0][\"audio\"]"
      ],
      "execution_count": 86,
      "outputs": [
        {
          "output_type": "execute_result",
          "data": {
            "text/plain": [
              "{'path': '/root/.cache/huggingface/datasets/downloads/extracted/fa0b56b610c1570c6d0fe52523f25432c19dfe52a57f82501a18203527cc0af2/ar_train_0/common_voice_ar_24032301.mp3',\n",
              " 'array': array([9.94759830e-14, 7.10542736e-13, 8.81072992e-13, ...,\n",
              "        1.49943298e-05, 2.72979050e-05, 1.81282703e-05]),\n",
              " 'sampling_rate': 48000}"
            ]
          },
          "metadata": {},
          "execution_count": 86
        }
      ]
    },
    {
      "cell_type": "markdown",
      "metadata": {
        "id": "WUUTgI1bGHW-"
      },
      "source": [
        "Great, we can see that the audio file has automatically been loaded. This is thanks to the new [`\"Audio\"` feature](https://huggingface.co/docs/datasets/package_reference/main_classes.html?highlight=audio#datasets.Audio) introduced in `datasets == 4.13.3`, which loads and resamples audio files on-the-fly upon calling.\n",
        "\n",
        "In the example above we can see that the audio data is loaded with a sampling rate of 48kHz whereas 16kHz are expected by the model. We can set the audio feature to the correct sampling rate by making use of [`cast_column`](https://huggingface.co/docs/datasets/package_reference/main_classes.html?highlight=cast_column#datasets.DatasetDict.cast_column):"
      ]
    },
    {
      "cell_type": "code",
      "metadata": {
        "id": "rrv65aj7G95i"
      },
      "source": [
        "pros_common_voice_train = pros_common_voice_train.cast_column(\"audio\", Audio(sampling_rate=16_000))\n",
        "pros_common_voice_test = pros_common_voice_test.cast_column(\"audio\", Audio(sampling_rate=16_000))"
      ],
      "execution_count": 87,
      "outputs": []
    },
    {
      "cell_type": "markdown",
      "metadata": {
        "id": "PcnO4x-NGBEi"
      },
      "source": [
        "Let's take a look at `\"audio\"` again."
      ]
    },
    {
      "cell_type": "code",
      "metadata": {
        "colab": {
          "base_uri": "https://localhost:8080/"
        },
        "id": "aKtkc1o_HWHC",
        "outputId": "f6265ee0-88d3-46d6-9ccd-9c2eed0597df"
      },
      "source": [
        "pros_common_voice_train[0][\"audio\"]"
      ],
      "execution_count": 88,
      "outputs": [
        {
          "output_type": "execute_result",
          "data": {
            "text/plain": [
              "{'path': '/root/.cache/huggingface/datasets/downloads/extracted/fa0b56b610c1570c6d0fe52523f25432c19dfe52a57f82501a18203527cc0af2/ar_train_0/common_voice_ar_24032301.mp3',\n",
              " 'array': array([ 1.43245416e-11, -1.22781785e-11,  6.36646291e-12, ...,\n",
              "        -2.06982040e-05, -2.50902085e-05,  1.88290578e-05]),\n",
              " 'sampling_rate': 16000}"
            ]
          },
          "metadata": {},
          "execution_count": 88
        }
      ]
    },
    {
      "cell_type": "markdown",
      "metadata": {
        "id": "SOckzFd4Mbzq"
      },
      "source": [
        "This seemed to have worked! Let's listen to a couple of audio files to better understand the dataset and verify that the audio was correctly loaded.\n",
        "\n",
        "**Note**: *You can click the following cell a couple of times to listen to different speech samples.*"
      ]
    },
    {
      "cell_type": "code",
      "metadata": {
        "colab": {
          "base_uri": "https://localhost:8080/",
          "height": 93
        },
        "id": "dueM6U7Ev0OA",
        "outputId": "0c72951c-c653-47fa-f063-87301730032e"
      },
      "source": [
        "import IPython.display as ipd\n",
        "import numpy as np\n",
        "import random\n",
        "\n",
        "rand_int = random.randint(0, len(pros_common_voice_train)-1)\n",
        "\n",
        "print(pros_common_voice_train[rand_int][\"sentence\"])\n",
        "ipd.Audio(data=pros_common_voice_train[rand_int][\"audio\"][\"array\"], autoplay=True, rate=16000)"
      ],
      "execution_count": 89,
      "outputs": [
        {
          "output_type": "stream",
          "name": "stdout",
          "text": [
            "أنا جائع  لذلك سأذهب لتناول بعض الطعام\n"
          ]
        },
        {
          "output_type": "execute_result",
          "data": {
            "text/plain": [
              "<IPython.lib.display.Audio object>"
            ],
            "text/html": [
              "\n",
              "                <audio  controls=\"controls\" autoplay=\"autoplay\">\n",
              "                    <source src=\"data:audio/wav;base64,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\" type=\"audio/wav\" />\n",
              "                    Your browser does not support the audio element.\n",
              "                </audio>\n",
              "              "
            ]
          },
          "metadata": {},
          "execution_count": 89
        }
      ]
    },
    {
      "cell_type": "markdown",
      "metadata": {
        "id": "gY8m3vARHYTa"
      },
      "source": [
        "It seems like the data is now correctly loaded and resampled."
      ]
    },
    {
      "cell_type": "markdown",
      "metadata": {
        "id": "1MaL9J2dNVtG"
      },
      "source": [
        "It can be heard, that the speakers change along with their speaking rate, accent, and background environment, etc. Overall, the recordings sound acceptably clear though, which is to be expected from a crowd-sourced read speech corpus.\n",
        "\n",
        "Let's do a final check that the data is correctly prepared, by printing the shape of the speech input, its transcription, and the corresponding sampling rate.\n",
        "\n",
        "**Note**: *You can click the following cell a couple of times to verify multiple samples.*"
      ]
    },
    {
      "cell_type": "code",
      "metadata": {
        "colab": {
          "base_uri": "https://localhost:8080/"
        },
        "id": "1Po2g7YPuRTx",
        "outputId": "bd795225-4da8-47e8-dbc4-fe5bc47b266a"
      },
      "source": [
        "rand_int = random.randint(0, len(pros_common_voice_train)-1)\n",
        "\n",
        "print(\"Target text:\", pros_common_voice_train[rand_int][\"sentence\"])\n",
        "print(\"Input array shape:\", pros_common_voice_train[rand_int][\"audio\"][\"array\"].shape)\n",
        "print(\"Sampling rate:\", pros_common_voice_train[rand_int][\"audio\"][\"sampling_rate\"])"
      ],
      "execution_count": 90,
      "outputs": [
        {
          "output_type": "stream",
          "name": "stdout",
          "text": [
            "Target text: كان سامي يحبّ الحياة السّعيدة\n",
            "Input array shape: (52992,)\n",
            "Sampling rate: 16000\n"
          ]
        }
      ]
    },
    {
      "cell_type": "markdown",
      "metadata": {
        "id": "M9teZcSwOBJ4"
      },
      "source": [
        "Good! Everything looks fine - the data is a 1-dimensional array, the sampling rate always corresponds to 16kHz, and the target text is normalized."
      ]
    },
    {
      "cell_type": "markdown",
      "metadata": {
        "id": "k3Pbn5WvOYZF"
      },
      "source": [
        "Finally, we can leverage `Wav2Vec2Processor` to process the data to the format expected by `Wav2Vec2ForCTC` for training. To do so let's make use of Dataset's [`map(...)`](https://huggingface.co/docs/datasets/package_reference/main_classes.html?highlight=map#datasets.DatasetDict.map) function.\n",
        "\n",
        "First, we load and resample the audio data, simply by calling `batch[\"audio\"]`.\n",
        "Second, we extract the `input_values` from the loaded audio file. In our case, the `Wav2Vec2Processor` only normalizes the data. For other speech models, however, this step can include more complex feature extraction, such as [Log-Mel feature extraction](https://en.wikipedia.org/wiki/Mel-frequency_cepstrum).\n",
        "Third, we encode the transcriptions to label ids.\n",
        "\n",
        "**Note**: This mapping function is a good example of how the `Wav2Vec2Processor` class should be used. In \"normal\" context, calling `processor(...)` is redirected to `Wav2Vec2FeatureExtractor`'s call method. When wrapping the processor into the `as_target_processor` context, however, the same method is redirected to `Wav2Vec2CTCTokenizer`'s call method.\n",
        "For more information please check the [docs](https://huggingface.co/transformers/master/model_doc/wav2vec2.html#transformers.Wav2Vec2Processor.__call__)."
      ]
    },
    {
      "cell_type": "code",
      "metadata": {
        "id": "eJY7I0XAwe9p"
      },
      "source": [
        "def prepare_dataset(batch):\n",
        "    audio = batch[\"audio\"]\n",
        "\n",
        "    # batched output is \"un-batched\"\n",
        "    batch[\"input_values\"] = processor(audio[\"array\"], sampling_rate=audio[\"sampling_rate\"]).input_values[0]\n",
        "    batch[\"input_length\"] = len(batch[\"input_values\"])\n",
        "\n",
        "    with processor.as_target_processor():\n",
        "        batch[\"labels\"] = processor(batch[\"sentence\"]).input_ids\n",
        "    return batch"
      ],
      "execution_count": 91,
      "outputs": []
    },
    {
      "cell_type": "markdown",
      "metadata": {
        "id": "q6Pg_WR3OGAP"
      },
      "source": [
        "Let's apply the data preparation function to all examples."
      ]
    },
    {
      "cell_type": "code",
      "metadata": {
        "colab": {
          "base_uri": "https://localhost:8080/",
          "height": 137,
          "referenced_widgets": [
            "dc42b99f69354f1b986c211da7f91a6b",
            "8fd603ee63524d7aaf853d289846fa5d",
            "bdbae4accea142979a7a9b546455e508",
            "18ff5f78e71345bf9568261db3abd89e",
            "c605c882356244bdabcbbe4d0f4f6895",
            "034ae9ad46c4494184c4932b996391e5",
            "0a9c61fc242c4e4f8a9460621f4f553f",
            "aa10b24d16cf47f5a259464025895a0b",
            "37eafe5083b64fe599a6c3a4afa100f5",
            "ce46d6ca45354096ad0daaeb910d0d83",
            "5e17d5d37b6d4063b50f419d4c4e613c",
            "2f3c223e5944496ca3e24ea72a514b69",
            "8d577331f8c14a9ea58576360907b68d",
            "19162c95dae14307875b2e517c5630be",
            "4dd8831e58714ccf90bd868768743b88",
            "91f784fed96b4a0c9e70f580948536f6",
            "69b4f55d0f8240ca9175b4907af6acc7",
            "ed27c280bea7459e859cbb31b96173bc",
            "a0d15c05a3c347f19801a588867c745a",
            "e7ffba78e70d4de4ab7a30a8d45ff09a",
            "06fc6b38e30345a286e31983642f68e2",
            "49a06e8c14954c379fe11251e93b44e4"
          ]
        },
        "id": "-np9xYK-wl8q",
        "outputId": "554e1ff4-a863-4d81-fc71-9d50ce68a610"
      },
      "source": [
        "pros_common_voice_train = pros_common_voice_train.map(prepare_dataset, remove_columns=pros_common_voice_train.column_names)\n",
        "pros_common_voice_test = pros_common_voice_test.map(prepare_dataset, remove_columns=pros_common_voice_test.column_names)"
      ],
      "execution_count": 92,
      "outputs": [
        {
          "output_type": "display_data",
          "data": {
            "text/plain": [
              "Map:   0%|          | 0/38805 [00:00<?, ? examples/s]"
            ],
            "application/vnd.jupyter.widget-view+json": {
              "version_major": 2,
              "version_minor": 0,
              "model_id": "dc42b99f69354f1b986c211da7f91a6b"
            }
          },
          "metadata": {}
        },
        {
          "output_type": "stream",
          "name": "stderr",
          "text": [
            "/usr/local/lib/python3.10/dist-packages/transformers/models/wav2vec2/processing_wav2vec2.py:174: UserWarning: `as_target_processor` is deprecated and will be removed in v5 of Transformers. You can process your labels by using the argument `text` of the regular `__call__` method (either in the same call as your audio inputs, or in a separate call.\n",
            "  warnings.warn(\n"
          ]
        },
        {
          "output_type": "display_data",
          "data": {
            "text/plain": [
              "Map:   0%|          | 0/10478 [00:00<?, ? examples/s]"
            ],
            "application/vnd.jupyter.widget-view+json": {
              "version_major": 2,
              "version_minor": 0,
              "model_id": "2f3c223e5944496ca3e24ea72a514b69"
            }
          },
          "metadata": {}
        }
      ]
    },
    {
      "cell_type": "markdown",
      "metadata": {
        "id": "nKcEWHvKI1by"
      },
      "source": [
        "**Note**: Currently `datasets` make use of [`torchaudio`](https://pytorch.org/audio/stable/index.html) and [`librosa`](https://librosa.org/doc/latest/index.html) for audio loading and resampling. If you wish to implement your own costumized data loading/sampling, feel free to just make use of the `\"path\"` column instead and disregard the `\"audio\"` column."
      ]
    },
    {
      "cell_type": "markdown",
      "metadata": {
        "id": "24CxHd5ewI4T"
      },
      "source": [
        "Long input sequences require a lot of memory. XLS-R is based on `self-attention` the memory requirement scales quadratically with the input length for long input sequences (*cf.* with [this](https://www.reddit.com/r/MachineLearning/comments/genjvb/d_why_is_the_maximum_input_sequence_length_of/) reddit post). In case this demo crashes with an \"Out-of-memory\" error for you, you might want to uncomment the following lines to filter all sequences that are longer than 5 seconds for training."
      ]
    },
    {
      "cell_type": "code",
      "metadata": {
        "id": "tdHfbUJ_09iA"
      },
      "source": [
        "#max_input_length_in_sec = 5.0\n",
        "#common_voice_train = common_voice_train.filter(lambda x: x < max_input_length_in_sec * processor.feature_extractor.sampling_rate, input_columns=[\"input_length\"])"
      ],
      "execution_count": 93,
      "outputs": []
    },
    {
      "cell_type": "markdown",
      "metadata": {
        "id": "1ZWDCCKqwcfS"
      },
      "source": [
        "Awesome, now we are ready to start training!"
      ]
    },
    {
      "cell_type": "markdown",
      "metadata": {
        "id": "gYlQkKVoRUos"
      },
      "source": [
        "## Training\n",
        "\n",
        "The data is processed so that we are ready to start setting up the training pipeline. We will make use of 🤗's [Trainer](https://huggingface.co/transformers/master/main_classes/trainer.html?highlight=trainer) for which we essentially need to do the following:\n",
        "\n",
        "- Define a data collator. In contrast to most NLP models, XLS-R has a much larger input length than output length. *E.g.*, a sample of input length 50000 has an output length of no more than 100. Given the large input sizes, it is much more efficient to pad the training batches dynamically meaning that all training samples should only be padded to the longest sample in their batch and not the overall longest sample. Therefore, fine-tuning XLS-R requires a special padding data collator, which we will define below\n",
        "\n",
        "- Evaluation metric. During training, the model should be evaluated on the word error rate. We should define a `compute_metrics` function accordingly\n",
        "\n",
        "- Load a pretrained checkpoint. We need to load a pretrained checkpoint and configure it correctly for training.\n",
        "\n",
        "- Define the training configuration.\n",
        "\n",
        "After having fine-tuned the model, we will correctly evaluate it on the test data and verify that it has indeed learned to correctly transcribe speech."
      ]
    },
    {
      "cell_type": "markdown",
      "metadata": {
        "id": "Slk403unUS91"
      },
      "source": [
        "### Set-up Trainer\n",
        "\n",
        "Let's start by defining the data collator. The code for the data collator was copied from [this example](https://github.com/huggingface/transformers/blob/7e61d56a45c19284cfda0cee8995fb552f6b1f4e/examples/pytorch/speech-recognition/run_speech_recognition_ctc.py#L219).\n",
        "\n",
        "Without going into too many details, in contrast to the common data collators, this data collator treats the `input_values` and `labels` differently and thus applies to separate padding functions on them (again making use of XLS-R processor's context manager). This is necessary because in speech input and output are of different modalities meaning that they should not be treated by the same padding function.\n",
        "Analogous to the common data collators, the padding tokens in the labels with `-100` so that those tokens are **not** taken into account when computing the loss."
      ]
    },
    {
      "cell_type": "code",
      "metadata": {
        "id": "tborvC9hx88e"
      },
      "source": [
        "import torch\n",
        "\n",
        "from dataclasses import dataclass, field\n",
        "from typing import Any, Dict, List, Optional, Union\n",
        "\n",
        "@dataclass\n",
        "class DataCollatorCTCWithPadding:\n",
        "    \"\"\"\n",
        "    Data collator that will dynamically pad the inputs received.\n",
        "    Args:\n",
        "        processor (:class:`~transformers.Wav2Vec2Processor`)\n",
        "            The processor used for proccessing the data.\n",
        "        padding (:obj:`bool`, :obj:`str` or :class:`~transformers.tokenization_utils_base.PaddingStrategy`, `optional`, defaults to :obj:`True`):\n",
        "            Select a strategy to pad the returned sequences (according to the model's padding side and padding index)\n",
        "            among:\n",
        "            * :obj:`True` or :obj:`'longest'`: Pad to the longest sequence in the batch (or no padding if only a single\n",
        "              sequence if provided).\n",
        "            * :obj:`'max_length'`: Pad to a maximum length specified with the argument :obj:`max_length` or to the\n",
        "              maximum acceptable input length for the model if that argument is not provided.\n",
        "            * :obj:`False` or :obj:`'do_not_pad'` (default): No padding (i.e., can output a batch with sequences of\n",
        "              different lengths).\n",
        "    \"\"\"\n",
        "\n",
        "    processor: Wav2Vec2Processor\n",
        "    padding: Union[bool, str] = True\n",
        "\n",
        "    def __call__(self, features: List[Dict[str, Union[List[int], torch.Tensor]]]) -> Dict[str, torch.Tensor]:\n",
        "        # split inputs and labels since they have to be of different lenghts and need\n",
        "        # different padding methods\n",
        "        input_features = [{\"input_values\": feature[\"input_values\"]} for feature in features]\n",
        "        label_features = [{\"input_ids\": feature[\"labels\"]} for feature in features]\n",
        "\n",
        "        batch = self.processor.pad(\n",
        "            input_features,\n",
        "            padding=self.padding,\n",
        "            return_tensors=\"pt\",\n",
        "        )\n",
        "        with self.processor.as_target_processor():\n",
        "            labels_batch = self.processor.pad(\n",
        "                label_features,\n",
        "                padding=self.padding,\n",
        "                return_tensors=\"pt\",\n",
        "            )\n",
        "\n",
        "        # replace padding with -100 to ignore loss correctly\n",
        "        labels = labels_batch[\"input_ids\"].masked_fill(labels_batch.attention_mask.ne(1), -100)\n",
        "\n",
        "        batch[\"labels\"] = labels\n",
        "\n",
        "        return batch"
      ],
      "execution_count": 94,
      "outputs": []
    },
    {
      "cell_type": "code",
      "metadata": {
        "id": "lbQf5GuZyQ4_"
      },
      "source": [
        "data_collator = DataCollatorCTCWithPadding(processor=processor, padding=True)"
      ],
      "execution_count": 95,
      "outputs": []
    },
    {
      "cell_type": "markdown",
      "metadata": {
        "id": "xO-Zdj-5cxXp"
      },
      "source": [
        "Next, the evaluation metric is defined. As mentioned earlier, the\n",
        "predominant metric in ASR is the word error rate (WER), hence we will use it in this notebook as well."
      ]
    },
    {
      "cell_type": "code",
      "source": [
        "!pip install evaluate\n",
        "import evaluate"
      ],
      "metadata": {
        "colab": {
          "base_uri": "https://localhost:8080/"
        },
        "id": "GHHBEYYJqvPn",
        "outputId": "379cc471-8830-4485-c938-2a607d4ca028"
      },
      "execution_count": 96,
      "outputs": [
        {
          "output_type": "stream",
          "name": "stdout",
          "text": [
            "Requirement already satisfied: evaluate in /usr/local/lib/python3.10/dist-packages (0.4.3)\n",
            "Requirement already satisfied: datasets>=2.0.0 in /usr/local/lib/python3.10/dist-packages (from evaluate) (3.1.0)\n",
            "Requirement already satisfied: numpy>=1.17 in /usr/local/lib/python3.10/dist-packages (from evaluate) (1.26.4)\n",
            "Requirement already satisfied: dill in /usr/local/lib/python3.10/dist-packages (from evaluate) (0.3.8)\n",
            "Requirement already satisfied: pandas in /usr/local/lib/python3.10/dist-packages (from evaluate) (2.2.2)\n",
            "Requirement already satisfied: requests>=2.19.0 in /usr/local/lib/python3.10/dist-packages (from evaluate) (2.32.3)\n",
            "Requirement already satisfied: tqdm>=4.62.1 in /usr/local/lib/python3.10/dist-packages (from evaluate) (4.66.6)\n",
            "Requirement already satisfied: xxhash in /usr/local/lib/python3.10/dist-packages (from evaluate) (3.5.0)\n",
            "Requirement already satisfied: multiprocess in /usr/local/lib/python3.10/dist-packages (from evaluate) (0.70.16)\n",
            "Requirement already satisfied: fsspec>=2021.05.0 in /usr/local/lib/python3.10/dist-packages (from fsspec[http]>=2021.05.0->evaluate) (2024.9.0)\n",
            "Requirement already satisfied: huggingface-hub>=0.7.0 in /usr/local/lib/python3.10/dist-packages (from evaluate) (0.26.2)\n",
            "Requirement already satisfied: packaging in /usr/local/lib/python3.10/dist-packages (from evaluate) (24.2)\n",
            "Requirement already satisfied: filelock in /usr/local/lib/python3.10/dist-packages (from datasets>=2.0.0->evaluate) (3.16.1)\n",
            "Requirement already satisfied: pyarrow>=15.0.0 in /usr/local/lib/python3.10/dist-packages (from datasets>=2.0.0->evaluate) (17.0.0)\n",
            "Requirement already satisfied: aiohttp in /usr/local/lib/python3.10/dist-packages (from datasets>=2.0.0->evaluate) (3.11.2)\n",
            "Requirement already satisfied: pyyaml>=5.1 in /usr/local/lib/python3.10/dist-packages (from datasets>=2.0.0->evaluate) (6.0.2)\n",
            "Requirement already satisfied: typing-extensions>=3.7.4.3 in /usr/local/lib/python3.10/dist-packages (from huggingface-hub>=0.7.0->evaluate) (4.12.2)\n",
            "Requirement already satisfied: charset-normalizer<4,>=2 in /usr/local/lib/python3.10/dist-packages (from requests>=2.19.0->evaluate) (3.4.0)\n",
            "Requirement already satisfied: idna<4,>=2.5 in /usr/local/lib/python3.10/dist-packages (from requests>=2.19.0->evaluate) (3.10)\n",
            "Requirement already satisfied: urllib3<3,>=1.21.1 in /usr/local/lib/python3.10/dist-packages (from requests>=2.19.0->evaluate) (2.2.3)\n",
            "Requirement already satisfied: certifi>=2017.4.17 in /usr/local/lib/python3.10/dist-packages (from requests>=2.19.0->evaluate) (2024.8.30)\n",
            "Requirement already satisfied: python-dateutil>=2.8.2 in /usr/local/lib/python3.10/dist-packages (from pandas->evaluate) (2.8.2)\n",
            "Requirement already satisfied: pytz>=2020.1 in /usr/local/lib/python3.10/dist-packages (from pandas->evaluate) (2024.2)\n",
            "Requirement already satisfied: tzdata>=2022.7 in /usr/local/lib/python3.10/dist-packages (from pandas->evaluate) (2024.2)\n",
            "Requirement already satisfied: aiohappyeyeballs>=2.3.0 in /usr/local/lib/python3.10/dist-packages (from aiohttp->datasets>=2.0.0->evaluate) (2.4.3)\n",
            "Requirement already satisfied: aiosignal>=1.1.2 in /usr/local/lib/python3.10/dist-packages (from aiohttp->datasets>=2.0.0->evaluate) (1.3.1)\n",
            "Requirement already satisfied: attrs>=17.3.0 in /usr/local/lib/python3.10/dist-packages (from aiohttp->datasets>=2.0.0->evaluate) (24.2.0)\n",
            "Requirement already satisfied: frozenlist>=1.1.1 in /usr/local/lib/python3.10/dist-packages (from aiohttp->datasets>=2.0.0->evaluate) (1.5.0)\n",
            "Requirement already satisfied: multidict<7.0,>=4.5 in /usr/local/lib/python3.10/dist-packages (from aiohttp->datasets>=2.0.0->evaluate) (6.1.0)\n",
            "Requirement already satisfied: propcache>=0.2.0 in /usr/local/lib/python3.10/dist-packages (from aiohttp->datasets>=2.0.0->evaluate) (0.2.0)\n",
            "Requirement already satisfied: yarl<2.0,>=1.17.0 in /usr/local/lib/python3.10/dist-packages (from aiohttp->datasets>=2.0.0->evaluate) (1.17.2)\n",
            "Requirement already satisfied: async-timeout<6.0,>=4.0 in /usr/local/lib/python3.10/dist-packages (from aiohttp->datasets>=2.0.0->evaluate) (4.0.3)\n",
            "Requirement already satisfied: six>=1.5 in /usr/local/lib/python3.10/dist-packages (from python-dateutil>=2.8.2->pandas->evaluate) (1.16.0)\n"
          ]
        }
      ]
    },
    {
      "cell_type": "code",
      "metadata": {
        "id": "9Xsux2gmyXso"
      },
      "source": [
        "wer_metric = evaluate.load(\"wer\")"
      ],
      "execution_count": 97,
      "outputs": []
    },
    {
      "cell_type": "markdown",
      "metadata": {
        "id": "E1qZU5p-deqB"
      },
      "source": [
        "The model will return a sequence of logit vectors:\n",
        "$\\mathbf{y}_1, \\ldots, \\mathbf{y}_m$ with $\\mathbf{y}_1 = f_{\\theta}(x_1, \\ldots, x_n)[0]$ and $n >> m$.\n",
        "\n",
        "A logit vector $\\mathbf{y}_1$ contains the log-odds for each word in the vocabulary we defined earlier, thus $\\text{len}(\\mathbf{y}_i) =$ `config.vocab_size`. We are interested in the most likely prediction of the model and thus take the `argmax(...)` of the logits. Also, we transform the encoded labels back to the original string by replacing `-100` with the `pad_token_id` and decoding the ids while making sure that consecutive tokens are **not** grouped to the same token in CTC style ${}^1$."
      ]
    },
    {
      "cell_type": "code",
      "metadata": {
        "id": "1XZ-kjweyTy_"
      },
      "source": [
        "def compute_metrics(pred):\n",
        "    pred_logits = pred.predictions\n",
        "    pred_ids = np.argmax(pred_logits, axis=-1)\n",
        "\n",
        "    pred.label_ids[pred.label_ids == -100] = processor.tokenizer.pad_token_id\n",
        "\n",
        "    pred_str = processor.batch_decode(pred_ids)\n",
        "    # we do not want to group tokens when computing the metrics\n",
        "    label_str = processor.batch_decode(pred.label_ids, group_tokens=False)\n",
        "\n",
        "    wer = wer_metric.compute(predictions=pred_str, references=label_str)\n",
        "\n",
        "    return {\"wer\": wer}"
      ],
      "execution_count": 98,
      "outputs": []
    },
    {
      "cell_type": "markdown",
      "metadata": {
        "id": "Xmgrx4bRwLIH"
      },
      "source": [
        "Now, we can load the pretrained checkpoint of [Wav2Vec2-XLS-R-300M](https://huggingface.co/facebook/wav2vec2-xls-r-300m). The tokenizer's `pad_token_id` must be to define the model's `pad_token_id` or in the case of `Wav2Vec2ForCTC` also CTC's *blank token* ${}^2$. To save GPU memory, we enable PyTorch's [gradient checkpointing](https://pytorch.org/docs/stable/checkpoint.html) and also set the loss reduction to \"*mean*\".\n",
        "\n",
        "Because the dataset is quite small (~6h of training data) and because Common Voice is quite noisy, fine-tuning Facebook's [wav2vec2-xls-r-300m checkpoint](https://huggingface.co/facebook/wav2vec2-xls-r-300m) seems to require some hyper-parameter tuning. Therefore, I had to play around a bit with different values for dropout, [SpecAugment](https://arxiv.org/abs/1904.08779)'s masking dropout rate, layer dropout, and the learning rate until training seemed to be stable enough.\n",
        "\n",
        "**Note**: When using this notebook to train XLS-R on another language of Common Voice those hyper-parameter settings might not work very well. Feel free to adapt those depending on your use case."
      ]
    },
    {
      "cell_type": "code",
      "metadata": {
        "colab": {
          "base_uri": "https://localhost:8080/"
        },
        "id": "e7cqAWIayn6w",
        "outputId": "9cd81f9d-fabf-4b31-f5c8-fea62821940d"
      },
      "source": [
        "from transformers import Wav2Vec2ForCTC\n",
        "\n",
        "model = Wav2Vec2ForCTC.from_pretrained(\n",
        "    \"facebook/wav2vec2-xls-r-300m\",\n",
        "    attention_dropout=0.0,\n",
        "    hidden_dropout=0.0,\n",
        "    feat_proj_dropout=0.0,\n",
        "    mask_time_prob=0.05,\n",
        "    layerdrop=0.0,\n",
        "    ctc_loss_reduction=\"mean\",\n",
        "    pad_token_id=processor.tokenizer.pad_token_id,\n",
        "    vocab_size=len(processor.tokenizer),\n",
        ")"
      ],
      "execution_count": 99,
      "outputs": [
        {
          "output_type": "stream",
          "name": "stderr",
          "text": [
            "Some weights of Wav2Vec2ForCTC were not initialized from the model checkpoint at facebook/wav2vec2-xls-r-300m and are newly initialized: ['lm_head.bias', 'lm_head.weight']\n",
            "You should probably TRAIN this model on a down-stream task to be able to use it for predictions and inference.\n"
          ]
        }
      ]
    },
    {
      "cell_type": "markdown",
      "metadata": {
        "id": "1DwR3XLSzGDD"
      },
      "source": [
        "The first component of XLS-R consists of a stack of CNN layers that are used to extract acoustically meaningful - but contextually independent - features from the raw speech signal. This part of the model has already been sufficiently trained during pretraining and as stated in the [paper](https://arxiv.org/pdf/2006.13979.pdf) does not need to be fine-tuned anymore.\n",
        "Thus, we can set the `requires_grad` to `False` for all parameters of the *feature extraction* part."
      ]
    },
    {
      "cell_type": "code",
      "metadata": {
        "id": "oGI8zObtZ3V0",
        "colab": {
          "base_uri": "https://localhost:8080/"
        },
        "outputId": "44edb18c-c04b-47d3-a91b-cbc1153d14c5"
      },
      "source": [
        "model.freeze_feature_extractor()"
      ],
      "execution_count": 100,
      "outputs": [
        {
          "output_type": "stream",
          "name": "stderr",
          "text": [
            "/usr/local/lib/python3.10/dist-packages/transformers/models/wav2vec2/modeling_wav2vec2.py:2178: FutureWarning: The method `freeze_feature_extractor` is deprecated and will be removed in Transformers v5. Please use the equivalent `freeze_feature_encoder` method instead.\n",
            "  warnings.warn(\n"
          ]
        }
      ]
    },
    {
      "cell_type": "markdown",
      "metadata": {
        "id": "lD4aGhQM0K-D"
      },
      "source": [
        "In a final step, we define all parameters related to training.\n",
        "To give more explanation on some of the parameters:\n",
        "- `group_by_length` makes training more efficient by grouping training samples of similar input length into one batch. This can significantly speed up training time by heavily reducing the overall number of useless padding tokens that are passed through the model\n",
        "- `learning_rate` and `weight_decay` were heuristically tuned until fine-tuning has become stable. Note that those parameters strongly depend on the Common Voice dataset and might be suboptimal for other speech datasets.\n",
        "\n",
        "For more explanations on other parameters, one can take a look at the [docs](https://huggingface.co/transformers/master/main_classes/trainer.html?highlight=trainer#trainingarguments).\n",
        "\n",
        "During training, a checkpoint will be uploaded asynchronously to the hub every 400 training steps. It allows you to also play around with the demo widget even while your model is still training.\n",
        "\n",
        "**Note**: If one does not want to upload the model checkpoints to the hub, simply set `push_to_hub=False`."
      ]
    },
    {
      "cell_type": "code",
      "metadata": {
        "id": "KbeKSV7uzGPP",
        "colab": {
          "base_uri": "https://localhost:8080/"
        },
        "outputId": "ff61c6bb-789b-412d-91e4-b9ffcc2bd82f"
      },
      "source": [
        "from transformers import TrainingArguments\n",
        "\n",
        "training_args = TrainingArguments(\n",
        "  output_dir=repo_name,\n",
        "  group_by_length=True,\n",
        "  per_device_train_batch_size=16,\n",
        "  gradient_accumulation_steps=2,\n",
        "  evaluation_strategy=\"steps\",\n",
        "  num_train_epochs=30,\n",
        "  gradient_checkpointing=True,\n",
        "  fp16=True,\n",
        "  save_steps=400,\n",
        "  eval_steps=400,\n",
        "  logging_steps=400,\n",
        "  learning_rate=3e-4,\n",
        "  warmup_steps=500,\n",
        "  save_total_limit=2,\n",
        "  push_to_hub=True,\n",
        ")"
      ],
      "execution_count": 101,
      "outputs": [
        {
          "output_type": "stream",
          "name": "stderr",
          "text": [
            "/usr/local/lib/python3.10/dist-packages/transformers/training_args.py:1568: FutureWarning: `evaluation_strategy` is deprecated and will be removed in version 4.46 of 🤗 Transformers. Use `eval_strategy` instead\n",
            "  warnings.warn(\n"
          ]
        }
      ]
    },
    {
      "cell_type": "markdown",
      "metadata": {
        "id": "OsW-WZcL1ZtN"
      },
      "source": [
        "Now, all instances can be passed to Trainer and we are ready to start training!"
      ]
    },
    {
      "cell_type": "code",
      "metadata": {
        "colab": {
          "base_uri": "https://localhost:8080/"
        },
        "id": "rY7vBmFCPFgC",
        "outputId": "f404c74c-9e3f-441e-c261-9c620fb5e3e4"
      },
      "source": [
        "from transformers import Trainer\n",
        "\n",
        "trainer = Trainer(\n",
        "    model=model,\n",
        "    data_collator=data_collator,\n",
        "    args=training_args,\n",
        "    compute_metrics=compute_metrics,\n",
        "    train_dataset=pros_common_voice_train,\n",
        "    eval_dataset=pros_common_voice_test,\n",
        "    tokenizer=processor.feature_extractor,\n",
        ")"
      ],
      "execution_count": 102,
      "outputs": [
        {
          "output_type": "stream",
          "name": "stderr",
          "text": [
            "<ipython-input-102-66e4ae898a34>:3: FutureWarning: `tokenizer` is deprecated and will be removed in version 5.0.0 for `Trainer.__init__`. Use `processing_class` instead.\n",
            "  trainer = Trainer(\n"
          ]
        }
      ]
    },
    {
      "cell_type": "markdown",
      "metadata": {
        "id": "UoXBx1JAA0DX"
      },
      "source": [
        "\n",
        "\n",
        "---\n",
        "\n",
        "${}^1$ To allow models to become independent of the speaker rate, in CTC, consecutive tokens that are identical are simply grouped as a single token. However, the encoded labels should not be grouped when decoding since they don't correspond to the predicted tokens of the model, which is why the `group_tokens=False` parameter has to be passed. If we wouldn't pass this parameter a word like `\"hello\"` would incorrectly be encoded, and decoded as `\"helo\"`.\n",
        "\n",
        "${}^2$ The blank token allows the model to predict a word, such as `\"hello\"` by forcing it to insert the blank token between the two l's. A CTC-conform prediction of `\"hello\"` of our model would be `[PAD] [PAD] \"h\" \"e\" \"e\" \"l\" \"l\" [PAD] \"l\" \"o\" \"o\" [PAD]`."
      ]
    },
    {
      "cell_type": "markdown",
      "metadata": {
        "id": "rpvZHM1xReIW"
      },
      "source": [
        "### Training"
      ]
    },
    {
      "cell_type": "markdown",
      "metadata": {
        "id": "j-3oKSzZ1hGq"
      },
      "source": [
        "Training will take multiple hours depending on the GPU allocated to this notebook. While the trained model yields somewhat satisfying results on *Common Voice*'s test data of Turkish, it is by no means an optimally fine-tuned model. The purpose of this notebook is just to demonstrate how to fine-tune XLS-R on an ASR dataset.\n",
        "\n",
        "In case you want to use this google colab to fine-tune your model, you should make sure that your training doesn't stop due to inactivity. A simple hack to prevent this is to paste the following code into the console of this tab (*right mouse click -> inspect -> Console tab and insert code*)."
      ]
    },
    {
      "cell_type": "markdown",
      "metadata": {
        "id": "VYYAvgkW4P0m"
      },
      "source": [
        "```javascript\n",
        "function ConnectButton(){\n",
        "    console.log(\"Connect pushed\");\n",
        "    document.querySelector(\"#top-toolbar > colab-connect-button\").shadowRoot.querySelector(\"#connect\").click()\n",
        "}\n",
        "setInterval(ConnectButton,60000);\n",
        "```"
      ]
    },
    {
      "cell_type": "markdown",
      "metadata": {
        "id": "7bGgLV2r0yvZ"
      },
      "source": [
        "Depending on what GPU was allocated to your google colab it might be possible that you are seeing an `\"out-of-memory\"` error here. In this case, it's probably best to reduce `per_device_train_batch_size` to 8 or even less and increase [`gradient_accumulation`](https://huggingface.co/transformers/master/main_classes/trainer.html#trainingarguments)."
      ]
    },
    {
      "cell_type": "code",
      "metadata": {
        "colab": {
          "base_uri": "https://localhost:8080/",
          "height": 146
        },
        "id": "9fRr9TG5pGBl",
        "outputId": "0ac60267-02d5-4da5-9003-d44fa5c1df77"
      },
      "source": [
        "trainer.train()"
      ],
      "execution_count": 1,
      "outputs": [
        {
          "output_type": "error",
          "ename": "NameError",
          "evalue": "name 'trainer' is not defined",
          "traceback": [
            "\u001b[0;31m---------------------------------------------------------------------------\u001b[0m",
            "\u001b[0;31mNameError\u001b[0m                                 Traceback (most recent call last)",
            "\u001b[0;32m<ipython-input-1-3435b262f1ae>\u001b[0m in \u001b[0;36m<cell line: 1>\u001b[0;34m()\u001b[0m\n\u001b[0;32m----> 1\u001b[0;31m \u001b[0mtrainer\u001b[0m\u001b[0;34m.\u001b[0m\u001b[0mtrain\u001b[0m\u001b[0;34m(\u001b[0m\u001b[0;34m)\u001b[0m\u001b[0;34m\u001b[0m\u001b[0;34m\u001b[0m\u001b[0m\n\u001b[0m",
            "\u001b[0;31mNameError\u001b[0m: name 'trainer' is not defined"
          ]
        }
      ]
    },
    {
      "cell_type": "markdown",
      "metadata": {
        "id": "a9q4mgMZplr_"
      },
      "source": [
        "The training loss and validation WER go down nicely."
      ]
    },
    {
      "cell_type": "markdown",
      "metadata": {
        "id": "4Ya7WEy0pd13"
      },
      "source": [
        "You can now upload the result of the training to the 🤗 Hub, just execute this instruction:"
      ]
    },
    {
      "cell_type": "code",
      "metadata": {
        "id": "ArG1Thf6NBWm"
      },
      "source": [
        "trainer.push_to_hub()"
      ],
      "execution_count": null,
      "outputs": []
    },
    {
      "cell_type": "markdown",
      "metadata": {
        "id": "RHIVc44_fY2N"
      },
      "source": [
        "You can now share this model with all your friends, family, favorite pets: they can all load it with the identifier \"your-username/the-name-you-picked\" so for instance:"
      ]
    },
    {
      "cell_type": "markdown",
      "metadata": {
        "id": "5lWWIKyBpx1h"
      },
      "source": [
        "```python\n",
        "from transformers import AutoModelForCTC, Wav2Vec2Processor\n",
        "\n",
        "model = AutoModelForCTC.from_pretrained(\"aorbani/wav2vec2-large-xls-r-300m-arabic-colab\")\n",
        "processor = Wav2Vec2Processor.from_pretrained(\"aorbani/wav2vec2-large-xls-r-300m-arabic-colab\")\n",
        "```"
      ]
    },
    {
      "cell_type": "markdown",
      "metadata": {
        "id": "pmi1cX0fRBit"
      },
      "source": [
        "For more examples of how XLS-R can be fine-tuned, please take a look at the [official speech recognition examples](https://github.com/huggingface/transformers/tree/master/examples/pytorch/speech-recognition#examples)."
      ]
    },
    {
      "cell_type": "markdown",
      "metadata": {
        "id": "L8b8Qkoy3KyS"
      },
      "source": [
        "### Evaluation\n",
        "\n",
        "As a final check, let's load the model and verify that it indeed has learned to transcribe Turkish speech.\n",
        "\n",
        "Let's first load the pretrained checkpoint."
      ]
    },
    {
      "cell_type": "code",
      "metadata": {
        "id": "R351I9IQp_9D"
      },
      "source": [
        "model = Wav2Vec2ForCTC.from_pretrained(repo_name).to(\"cuda\")\n",
        "processor = Wav2Vec2Processor.from_pretrained(repo_name)"
      ],
      "execution_count": null,
      "outputs": []
    },
    {
      "cell_type": "markdown",
      "metadata": {
        "id": "jD7TZ1YS3S_K"
      },
      "source": [
        "\n",
        "Now, we will just take the first example of the test set, run it through the model and take the `argmax(...)` of the logits to retrieve the predicted token ids."
      ]
    },
    {
      "cell_type": "code",
      "metadata": {
        "id": "pax07TnL3WZn"
      },
      "source": [
        "input_dict = processor(pros_common_voice_test[0][\"input_values\"], return_tensors=\"pt\", padding=True)\n",
        "\n",
        "logits = model(input_dict.input_values.to(\"cuda\")).logits\n",
        "\n",
        "pred_ids = torch.argmax(logits, dim=-1)[0]"
      ],
      "execution_count": null,
      "outputs": []
    },
    {
      "cell_type": "markdown",
      "metadata": {
        "id": "7nkzSQu53Zs2"
      },
      "source": [
        "We adapted `common_voice_test` quite a bit so that the dataset instance does not contain the original sentence label anymore. Thus, we re-use the original dataset to get the label of the first example."
      ]
    },
    {
      "cell_type": "code",
      "metadata": {
        "id": "fe2AE-2xqKHx"
      },
      "source": [
        "common_voice_test_transcription = load_dataset(\"mozilla-foundation/common_voice_16_0\", \"ar\",  split=\"test\")"
      ],
      "execution_count": null,
      "outputs": []
    },
    {
      "cell_type": "markdown",
      "metadata": {
        "id": "epu8kCQZ3h70"
      },
      "source": [
        "\n",
        "Finally, we can decode the example."
      ]
    },
    {
      "cell_type": "code",
      "metadata": {
        "id": "K4xWqmk_qMn0"
      },
      "source": [
        "print(\"Prediction:\")\n",
        "print(processor.decode(pred_ids))\n",
        "\n",
        "print(\"\\nReference:\")\n",
        "print(common_voice_test_transcription[0][\"sentence\"].lower())"
      ],
      "execution_count": null,
      "outputs": []
    },
    {
      "cell_type": "markdown",
      "metadata": {
        "id": "HwhyoMml3oOT"
      },
      "source": [
        "Alright! The transcription can definitely be recognized from our prediction, but it is not perfect yet. Training the model a bit longer, spending more time on the data preprocessing, and especially using a language model for decoding would certainly improve the model's overall performance.\n",
        "\n",
        "For a demonstration model on a low-resource language, the results are quite acceptable however 🤗."
      ]
    }
  ]
}